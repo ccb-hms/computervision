{
 "cells": [
  {
   "cell_type": "markdown",
   "id": "ebc52caa-e5ff-42ad-9bb6-84891f453249",
   "metadata": {},
   "source": [
    "## Model training: The toothmodel_basic.ToothModel class ##\n",
    "\n",
    "The ToothModel class is a subclass of the LightningModule from PyTorch Lightning.\n",
    "\n",
    "The class starts with the *\\__init()__* method, which sets up the initial conditions for the class. These conditions include attributes like train_dataset, batch_size, num_workers, lr (learning rate), and model. In the case that no model is passed during initialization, a ResNet50Model is created. The class also sets up its loss function as cross entropy loss.\n",
    "\n",
    "The *train_dataloader()* method returns a DataLoader object which represents the training dataset. The dataset is shuffled and loaded based on the batch size and number of workers defined during initialization.\n",
    "\n",
    "The *forward()* method performs a forward pass through the model and returns the output.\n",
    "\n",
    "The *training_step()* method performs a forward pass as well, but with the additional step of calculating loss between the predictions and actual values.\n",
    "\n",
    "The *predict_step()* method is also similar to the forward() method, but it is used during the prediction phase and hence doesn't involve computing loss.\n",
    "\n",
    "The *configure_optimizers()* method sets the optimizer for the model. In this case, AdamW is used."
   ]
  },
  {
   "cell_type": "code",
   "execution_count": 1,
   "id": "146bbe69-a3c4-430d-a5f8-74fa54188d44",
   "metadata": {},
   "outputs": [
    {
     "data": {
      "text/html": [
       "<style>.container { width:100% !important; }</style>"
      ],
      "text/plain": [
       "<IPython.core.display.HTML object>"
      ]
     },
     "metadata": {},
     "output_type": "display_data"
    },
    {
     "name": "stdout",
     "output_type": "stream",
     "text": [
      "Dentexmodel package version:  0.0.post1.dev163+g9fa083d.d20240224\n",
      "PyTorch version:              2.2.1+cu121\n",
      "PyTorch Lightning version:    2.2.0.post0\n"
     ]
    }
   ],
   "source": [
    "# Imports\n",
    "import os\n",
    "from pathlib import Path\n",
    "import numpy as np\n",
    "import pandas as pd\n",
    "import cv2\n",
    "import glob\n",
    "\n",
    "# Matplotlib for plotting\n",
    "from matplotlib import pyplot as plt\n",
    "from matplotlib.pyplot import cm\n",
    "\n",
    "# PyTorch packages\n",
    "import torch\n",
    "import torch.nn as nn\n",
    "import lightning.pytorch as pl\n",
    "from lightning.pytorch import Trainer\n",
    "\n",
    "# Albumentations library\n",
    "import albumentations as alb\n",
    "\n",
    "# Appearance of the Notebook\n",
    "from IPython.display import display, HTML\n",
    "display(HTML(\"<style>.container { width:100% !important; }</style>\"))\n",
    "np.set_printoptions(linewidth=110)\n",
    "pd.set_option('display.max_rows', 500)\n",
    "pd.set_option('display.max_columns', 100)\n",
    "pd.set_option('display.width', 1000)\n",
    "\n",
    "# Import this module with autoreload\n",
    "%load_ext autoreload\n",
    "%autoreload 2\n",
    "import dentexmodel as dm\n",
    "from dentexmodel.imageproc import ImageData\n",
    "from dentexmodel.torchdataset import DatasetFromDF, load_and_process_image\n",
    "print(f'Dentexmodel package version:  {dm.__version__}')\n",
    "print(f'PyTorch version:              {torch.__version__}')\n",
    "print(f'PyTorch Lightning version:    {pl.__version__}')"
   ]
  },
  {
   "cell_type": "code",
   "execution_count": 2,
   "id": "225546b5-cc54-4902-9a65-8dd1bf2ae405",
   "metadata": {},
   "outputs": [
    {
     "name": "stdout",
     "output_type": "stream",
     "text": [
      "CUDA available: True\n",
      "Number of GPUs found:  1\n",
      "Current device ID:     0\n",
      "GPU device name:       NVIDIA GeForce RTX 3070 Laptop GPU\n",
      "CUDNN version:         8902\n",
      "\n",
      "Device for model training/inference: cuda:0\n"
     ]
    }
   ],
   "source": [
    "# GPU checks\n",
    "is_cuda = torch.cuda.is_available()\n",
    "print(f'CUDA available: {is_cuda}')\n",
    "print(f'Number of GPUs found:  {torch.cuda.device_count()}')\n",
    "\n",
    "if is_cuda:\n",
    "    print(f'Current device ID:     {torch.cuda.current_device()}')\n",
    "    print(f'GPU device name:       {torch.cuda.get_device_name(0)}')\n",
    "    print(f'CUDNN version:         {torch.backends.cudnn.version()}')\n",
    "    device_str = 'cuda:0'\n",
    "    torch.cuda.empty_cache() \n",
    "else:\n",
    "    device_str = 'cpu'\n",
    "device = torch.device(device_str)\n",
    "print()\n",
    "print(f'Device for model training/inference: {device}')"
   ]
  },
  {
   "cell_type": "code",
   "execution_count": 3,
   "id": "fb742ac6-b8be-4342-97cc-b91acf1e3805",
   "metadata": {},
   "outputs": [],
   "source": [
    "# Path settings \n",
    "# Main data directory (defined as environment variable in docker-compose.yml)\n",
    "data_root = os.environ.get('DATA_ROOT')\n",
    "\n",
    "# Download directory (change as needed)\n",
    "dentex_dir = os.path.join(data_root, 'dentex')\n",
    "model_dir = os.path.join(data_root, 'model')\n",
    "data_dir = os.path.join(dentex_dir, 'dentex_classification')\n",
    "\n",
    "# This image directory is where the xrays are in the archive, so should be left as-is\n",
    "image_dir = os.path.join(data_dir, 'quadrant-enumeration-disease', 'xrays')\n",
    "cropped_image_dir = os.path.join(image_dir, 'crop')\n",
    "\n",
    "# Directory for the output\n",
    "output_dir = os.path.join(data_dir, 'output')\n",
    "\n",
    "data_file_name = 'dentex_disease_datasplit.parquet'\n",
    "data_file = os.path.join(data_dir, data_file_name)"
   ]
  },
  {
   "cell_type": "markdown",
   "id": "d7358557-53d8-4d69-b694-55c406c0f47f",
   "metadata": {},
   "source": [
    "### Create PyTorch datasets from data frame ###"
   ]
  },
  {
   "cell_type": "code",
   "execution_count": 4,
   "id": "64692d68-33f9-4a65-a937-6fa485594f55",
   "metadata": {},
   "outputs": [
    {
     "data": {
      "text/plain": [
       "Caries               1\n",
       "Deep Caries          3\n",
       "Impacted             0\n",
       "Periapical Lesion    2\n",
       "Name: 0, dtype: int64"
      ]
     },
     "metadata": {},
     "output_type": "display_data"
    }
   ],
   "source": [
    "data_df = pd.read_parquet(data_file)\n",
    "# Convert class names to labels\n",
    "cl_names = sorted(list(data_df['label'].unique()))\n",
    "# Let's assign number to the classes\n",
    "cl_numbers = [data_df.loc[data_df['label'] == label, 'cl'].values[0] for label in cl_names]\n",
    "label_dict = dict(zip(cl_names, cl_numbers))\n",
    "cl_dict = dict(zip(cl_numbers, cl_names))\n",
    "# Show the class labels\n",
    "display(pd.DataFrame(label_dict, index=[0]).iloc[0])"
   ]
  },
  {
   "cell_type": "code",
   "execution_count": 5,
   "id": "c0af688f-9c27-4227-8374-06643a7c49a5",
   "metadata": {},
   "outputs": [
    {
     "name": "stdout",
     "output_type": "stream",
     "text": [
      "Using 3289 samples for training.\n",
      "Using 120 samples for testing.\n"
     ]
    }
   ],
   "source": [
    "# For this model, we will use the training and testing data sets. \n",
    "# We will keep the validation set for the 'fancy' version of the model\n",
    "train_df = data_df.loc[data_df['dataset'] == 'train']\n",
    "test_df = data_df.loc[data_df['dataset'] == 'test']\n",
    "n_train_samples = len(train_df['box_name'].unique())\n",
    "n_test_samples = len(test_df['box_name'].unique())\n",
    "print(f'Using {n_train_samples} samples for training.')\n",
    "print(f'Using {n_test_samples} samples for testing.')"
   ]
  },
  {
   "cell_type": "code",
   "execution_count": 6,
   "id": "b366254d-a33b-4779-855a-48242cf1f6cc",
   "metadata": {},
   "outputs": [],
   "source": [
    "# Augmentations\n",
    "# Image augmentations is part of the PyTorch dataset\n",
    "\n",
    "# The output of this transformation must match the required input size for the model\n",
    "max_image_size = 550\n",
    "im_size = 224\n",
    "\n",
    "# Definition of the image augmentations for the training set\n",
    "train_transform = alb.Compose([\n",
    "    alb.Resize(im_size + 32, im_size + 32),\n",
    "    alb.RandomCrop(im_size, im_size),\n",
    "    alb.HorizontalFlip(),\n",
    "    alb.ShiftScaleRotate(),\n",
    "    alb.Blur(),\n",
    "    alb.RandomGamma(),\n",
    "    alb.Sharpen(),\n",
    "    alb.GaussNoise(),\n",
    "    alb.CoarseDropout(16, 32, 32),\n",
    "    alb.CLAHE(),\n",
    "    alb.Normalize(mean=ImageData().image_net_mean, \n",
    "                  std=ImageData().image_net_std)])\n",
    "\n",
    "# For testing, we do not want any augmentations\n",
    "# but we will still need the correct input size and image normalization\n",
    "val_transform = alb.Compose([\n",
    "    alb.Resize(im_size, im_size),\n",
    "    alb.Normalize(mean=ImageData().image_net_mean, \n",
    "                  std=ImageData().image_net_std)])"
   ]
  },
  {
   "cell_type": "code",
   "execution_count": 7,
   "id": "5edc6ffb-c54a-41ab-b899-20190b777ea8",
   "metadata": {},
   "outputs": [],
   "source": [
    "# Create the data sets from the data frame\n",
    "train_dataset = DatasetFromDF(data=train_df,\n",
    "                              file_col='box_file',\n",
    "                              label_col='cl',\n",
    "                              max_image_size=max_image_size,\n",
    "                              transform=train_transform,\n",
    "                              validate=True)\n",
    "\n",
    "test_dataset = DatasetFromDF(data=test_df,\n",
    "                             file_col='box_file',\n",
    "                             label_col='cl',\n",
    "                             max_image_size=max_image_size,\n",
    "                             transform=val_transform,\n",
    "                             validate=True)"
   ]
  },
  {
   "cell_type": "markdown",
   "id": "1a2bc348-585b-4b12-a0ca-5c419ce4fb87",
   "metadata": {},
   "source": [
    "### The ResNet50Model class ###\n",
    "The ResNet50Model class implements a variation of the ResNet50 architecture, which is a well-known type of convolutional neural networks particularly suitable for image classification tasks.\n",
    "\n",
    "The *\\__init__()* method initializes the instance of this class with the number of outputs.\n",
    "The *create_model()* method creates a ResNet50 model with default weights. The last fully Connected layer model.fc of the model is replaced with a sequential arrangement of layers combining a Linear layer, a ReLU activation function, and another Linear layer.\n",
    "\n",
    "The first Linear layer transforms the input features to 512 dimensions. The output of this layer is then passed through a ReLU activation function. Finally, the output is transformed by the second Linear layer to match the number of output classes(self.n_outputs).\n",
    "\n",
    "A list of available models is here:\n",
    "https://pytorch.org/vision/stable/models.html#classification\n",
    "\n",
    "The ResNet50 model:\n",
    "https://pytorch.org/vision/stable/models/generated/torchvision.models.resnet50.html#torchvision.models.resnet50"
   ]
  },
  {
   "cell_type": "code",
   "execution_count": 8,
   "id": "c90791a4-ac58-4405-9eb5-70cfbc2c60d6",
   "metadata": {},
   "outputs": [],
   "source": [
    "from torchvision.models import resnet50, ResNet50_Weights\n",
    "\n",
    "class ResNet50Model:\n",
    "    \"\"\" This is the ResNet50 model from torchvision.models \"\"\"\n",
    "    def __init__(self, n_outputs=4):\n",
    "        self.n_outputs = n_outputs\n",
    "\n",
    "    def create_model(self):\n",
    "        model = resnet50(weights=ResNet50_Weights.DEFAULT)\n",
    "        model.fc = nn.Sequential(\n",
    "            nn.Linear(in_features=model.fc.in_features, out_features=512),\n",
    "            nn.ReLU(),\n",
    "            nn.Linear(in_features=512, out_features=self.n_outputs)\n",
    "        )\n",
    "        return model"
   ]
  },
  {
   "cell_type": "code",
   "execution_count": 9,
   "id": "3d9b3e30-cc88-46e2-ba82-49112c2321fe",
   "metadata": {},
   "outputs": [],
   "source": [
    "# toothmodel1 is a minimal Lightning model to train\n",
    "# there is no trainig or validation metrics, just the bar minimum\n",
    "from dentexmodel.models.toothmodel_basic import ToothModel\n",
    "model = ToothModel(train_dataset=train_dataset,\n",
    "                   batch_size=16,\n",
    "                   num_workers=2,\n",
    "                   model=ResNet50Model(n_outputs=4).create_model())"
   ]
  },
  {
   "cell_type": "markdown",
   "id": "b2a8a5a2-2939-4c72-a885-a89db827a722",
   "metadata": {},
   "source": [
    "### Test the model output ###"
   ]
  },
  {
   "cell_type": "code",
   "execution_count": 10,
   "id": "e9d79d4f-a6c9-4eca-89c0-c60b0d6a5df9",
   "metadata": {},
   "outputs": [
    {
     "name": "stdout",
     "output_type": "stream",
     "text": [
      "(16, 3, 224, 224)\n",
      "(16,)\n"
     ]
    }
   ],
   "source": [
    "# Run one batch of images through the model\n",
    "dl = model.train_dataloader()\n",
    "image_batch, label_batch = next(iter(dl))\n",
    "print(image_batch.numpy().shape)\n",
    "print(label_batch.numpy().shape)"
   ]
  },
  {
   "cell_type": "markdown",
   "id": "ffa3b5e9-9bc8-4875-b473-512dfc7bb31c",
   "metadata": {},
   "source": [
    "### Train the model ###\n",
    "Training on GPU is recommended. Training works on a CPU-only machine, but it is very slow."
   ]
  },
  {
   "cell_type": "code",
   "execution_count": 11,
   "id": "1943870a-1cc2-4cd3-9fd5-808e73b3f87b",
   "metadata": {},
   "outputs": [
    {
     "name": "stderr",
     "output_type": "stream",
     "text": [
      "GPU available: True (cuda), used: True\n",
      "TPU available: False, using: 0 TPU cores\n",
      "IPU available: False, using: 0 IPUs\n",
      "HPU available: False, using: 0 HPUs\n",
      "Missing logger folder: /app/data/model/lightning_logs\n",
      "2024-02-25 14:35:22.482142: E external/local_xla/xla/stream_executor/cuda/cuda_dnn.cc:9261] Unable to register cuDNN factory: Attempting to register factory for plugin cuDNN when one has already been registered\n",
      "2024-02-25 14:35:22.482192: E external/local_xla/xla/stream_executor/cuda/cuda_fft.cc:607] Unable to register cuFFT factory: Attempting to register factory for plugin cuFFT when one has already been registered\n",
      "2024-02-25 14:35:22.521847: E external/local_xla/xla/stream_executor/cuda/cuda_blas.cc:1515] Unable to register cuBLAS factory: Attempting to register factory for plugin cuBLAS when one has already been registered\n",
      "2024-02-25 14:35:22.611835: I tensorflow/core/platform/cpu_feature_guard.cc:182] This TensorFlow binary is optimized to use available CPU instructions in performance-critical operations.\n",
      "To enable the following instructions: AVX2 FMA, in other operations, rebuild TensorFlow with the appropriate compiler flags.\n",
      "2024-02-25 14:35:23.508958: W tensorflow/compiler/tf2tensorrt/utils/py_utils.cc:38] TF-TRT Warning: Could not find TensorRT\n",
      "LOCAL_RANK: 0 - CUDA_VISIBLE_DEVICES: [0]\n",
      "\n",
      "  | Name      | Type             | Params\n",
      "-----------------------------------------------\n",
      "0 | model     | ResNet           | 24.6 M\n",
      "1 | criterion | CrossEntropyLoss | 0     \n",
      "-----------------------------------------------\n",
      "24.6 M    Trainable params\n",
      "0         Non-trainable params\n",
      "24.6 M    Total params\n",
      "98.237    Total estimated model params size (MB)\n"
     ]
    },
    {
     "data": {
      "application/vnd.jupyter.widget-view+json": {
       "model_id": "2f393134df1b48d393cb97a70621ccf4",
       "version_major": 2,
       "version_minor": 0
      },
      "text/plain": [
       "Training: |          | 0/? [00:00<?, ?it/s]"
      ]
     },
     "metadata": {},
     "output_type": "display_data"
    },
    {
     "name": "stderr",
     "output_type": "stream",
     "text": [
      "`Trainer.fit` stopped: `max_epochs=5` reached.\n"
     ]
    }
   ],
   "source": [
    "# Create the trainer object and train the model for 5 epochs\n",
    "# Train for at least 40 epochs to get good results\n",
    "\n",
    "max_epochs = 5\n",
    "tr = Trainer(max_epochs=max_epochs,\n",
    "             deterministic=True,\n",
    "             default_root_dir=model_dir)\n",
    "# Run the training\n",
    "tr.fit(model)"
   ]
  }
 ],
 "metadata": {
  "kernelspec": {
   "display_name": "Python 3 (ipykernel)",
   "language": "python",
   "name": "python3"
  },
  "language_info": {
   "codemirror_mode": {
    "name": "ipython",
    "version": 3
   },
   "file_extension": ".py",
   "mimetype": "text/x-python",
   "name": "python",
   "nbconvert_exporter": "python",
   "pygments_lexer": "ipython3",
   "version": "3.10.12"
  }
 },
 "nbformat": 4,
 "nbformat_minor": 5
}
