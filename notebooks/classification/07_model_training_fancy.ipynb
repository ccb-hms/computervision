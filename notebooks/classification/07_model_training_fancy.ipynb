{
 "cells": [
  {
   "cell_type": "markdown",
   "id": "ebc52caa-e5ff-42ad-9bb6-84891f453249",
   "metadata": {},
   "source": [
    "## Advanced model with learning rate scheduler and performance metrics ##"
   ]
  },
  {
   "cell_type": "code",
   "execution_count": 1,
   "id": "146bbe69-a3c4-430d-a5f8-74fa54188d44",
   "metadata": {},
   "outputs": [
    {
     "data": {
      "text/html": [
       "<style>.container { width:100% !important; }</style>"
      ],
      "text/plain": [
       "<IPython.core.display.HTML object>"
      ]
     },
     "metadata": {},
     "output_type": "display_data"
    },
    {
     "name": "stdout",
     "output_type": "stream",
     "text": [
      "dentexmodel package version:  0.0.post1.dev48+g56bd7cc.d20240808\n"
     ]
    }
   ],
   "source": [
    "# Imports\n",
    "import os\n",
    "from pathlib import Path\n",
    "import numpy as np\n",
    "import pandas as pd\n",
    "import cv2\n",
    "import glob\n",
    "\n",
    "# Matplotlib for plotting\n",
    "from matplotlib import pyplot as plt\n",
    "from matplotlib.pyplot import cm\n",
    "\n",
    "# PyTorch packages\n",
    "import torch\n",
    "import torch.nn as nn\n",
    "from lightning.pytorch.loggers import TensorBoardLogger\n",
    "import lightning.pytorch as pl\n",
    "from lightning.pytorch import Trainer, seed_everything\n",
    "from lightning.pytorch.callbacks import ModelCheckpoint, LearningRateFinder, LearningRateMonitor\n",
    "import torchmetrics\n",
    "\n",
    "# Albumentations library\n",
    "import albumentations as alb\n",
    "\n",
    "# Appearance of the Notebook\n",
    "from IPython.display import display, HTML\n",
    "display(HTML(\"<style>.container { width:100% !important; }</style>\"))\n",
    "np.set_printoptions(linewidth=110)\n",
    "pd.set_option('display.max_rows', 500)\n",
    "pd.set_option('display.max_columns', 100)\n",
    "pd.set_option('display.width', 1000)\n",
    "\n",
    "# Import this module with autoreload\n",
    "%load_ext autoreload\n",
    "%autoreload 2\n",
    "import computervision as dm\n",
    "from computervision.fileutils import FileOP\n",
    "from computervision.imageproc import ImageData\n",
    "from computervision.models.toothmodel_fancy import ToothModel, FineTuneLearningRateFinder\n",
    "from computervision.torchdataset import DatasetFromDF, load_and_process_image\n",
    "print(f'dentexmodel package version:  {dm.__version__}')"
   ]
  },
  {
   "cell_type": "code",
   "execution_count": 2,
   "id": "c4853777-3273-45e0-9020-6bab6f4ed372",
   "metadata": {},
   "outputs": [
    {
     "name": "stdout",
     "output_type": "stream",
     "text": [
      "CUDA available: True\n",
      "Number of GPUs found:  1\n",
      "Current device ID:     0\n",
      "GPU device name:       NVIDIA GeForce RTX 3070 Laptop GPU\n",
      "CUDNN version:         90201\n",
      "\n",
      "Device for model training/inference: cuda:0\n"
     ]
    }
   ],
   "source": [
    "# GPU checks\n",
    "is_cuda = torch.cuda.is_available()\n",
    "print(f'CUDA available: {is_cuda}')\n",
    "print(f'Number of GPUs found:  {torch.cuda.device_count()}')\n",
    "\n",
    "if is_cuda:\n",
    "    print(f'Current device ID:     {torch.cuda.current_device()}')\n",
    "    print(f'GPU device name:       {torch.cuda.get_device_name(0)}')\n",
    "    print(f'CUDNN version:         {torch.backends.cudnn.version()}')\n",
    "    device_str = 'cuda:0'\n",
    "    torch.cuda.empty_cache() \n",
    "else:\n",
    "    device_str = 'cpu'\n",
    "device = torch.device(device_str)\n",
    "print()\n",
    "print(f'Device for model training/inference: {device}')"
   ]
  },
  {
   "cell_type": "code",
   "execution_count": 3,
   "id": "fb742ac6-b8be-4342-97cc-b91acf1e3805",
   "metadata": {},
   "outputs": [],
   "source": [
    "# Path settings \n",
    "# Main data directory (defined as environment variable in docker-compose.yml)\n",
    "data_root = os.environ.get('DATA_ROOT')\n",
    "\n",
    "# Download directory (change as needed)\n",
    "dentex_dir = os.path.join(data_root, 'dentex')\n",
    "model_dir = os.path.join(data_root, 'model')\n",
    "data_dir = os.path.join(dentex_dir, 'dentex_classification')\n",
    "\n",
    "# This image directory is where the xrays are in the archive, so should be left as-is\n",
    "image_dir = os.path.join(data_dir, 'quadrant-enumeration-disease', 'xrays')\n",
    "cropped_image_dir = os.path.join(image_dir, 'crop')\n",
    "\n",
    "# Directory for the output\n",
    "output_dir = os.path.join(data_dir, 'output')\n",
    "\n",
    "data_file_name = 'dentex_disease_datasplit.parquet'\n",
    "data_file = os.path.join(data_dir, data_file_name)"
   ]
  },
  {
   "cell_type": "markdown",
   "id": "d7358557-53d8-4d69-b694-55c406c0f47f",
   "metadata": {},
   "source": [
    "### Create PyTorch datasets from data frame ###"
   ]
  },
  {
   "cell_type": "code",
   "execution_count": 4,
   "id": "64692d68-33f9-4a65-a937-6fa485594f55",
   "metadata": {},
   "outputs": [
    {
     "data": {
      "text/plain": [
       "Caries               1\n",
       "Deep Caries          3\n",
       "Impacted             0\n",
       "Periapical Lesion    2\n",
       "Name: 0, dtype: int64"
      ]
     },
     "metadata": {},
     "output_type": "display_data"
    }
   ],
   "source": [
    "data_df = pd.read_parquet(data_file)\n",
    "# Convert class names to labels\n",
    "cl_names = sorted(list(data_df['label'].unique()))\n",
    "# Get the class labels\n",
    "cl_numbers = [data_df.loc[data_df['label'] == label, 'cl'].values[0] for label in cl_names]\n",
    "label_dict = dict(zip(cl_names, cl_numbers))\n",
    "cl_dict = dict(zip(cl_numbers, cl_names))\n",
    "# Show the class labels\n",
    "display(pd.DataFrame(label_dict, index=[0]).iloc[0])"
   ]
  },
  {
   "cell_type": "code",
   "execution_count": 5,
   "id": "c0af688f-9c27-4227-8374-06643a7c49a5",
   "metadata": {},
   "outputs": [
    {
     "name": "stdout",
     "output_type": "stream",
     "text": [
      "Found 3289 samples in the training set.\n",
      "Found 120 samples in the validation set.\n",
      "Found 120 samples in the test set.\n",
      "\n"
     ]
    }
   ],
   "source": [
    "# Select the samples for training, validation and testing from our data frame\n",
    "train_df = data_df.loc[data_df['dataset']=='train']\n",
    "val_df = data_df.loc[data_df['dataset']=='val']\n",
    "test_df = data_df.loc[data_df['dataset']=='test']\n",
    "\n",
    "train_samples = sorted(list(train_df['box_name'].unique()))\n",
    "print(f'Found {len(train_samples)} samples in the training set.')\n",
    "val_samples = sorted(list(val_df['box_name'].unique()))\n",
    "print(f'Found {len(val_samples)} samples in the validation set.')\n",
    "test_samples = sorted(list(test_df['box_name'].unique()))\n",
    "print(f'Found {len(test_samples)} samples in the test set.')\n",
    "print()"
   ]
  },
  {
   "cell_type": "code",
   "execution_count": 6,
   "id": "b366254d-a33b-4779-855a-48242cf1f6cc",
   "metadata": {},
   "outputs": [],
   "source": [
    "# Augmentations\n",
    "# Image augmentations is part of the PyTorch dataset\n",
    "\n",
    "# The output of this transformation must match the required input size for the model\n",
    "max_image_size = 550\n",
    "im_size = 224\n",
    "\n",
    "# Definition of the image augmentations for the training set\n",
    "train_transform = alb.Compose([\n",
    "    alb.Resize(im_size + 32, im_size + 32),\n",
    "    alb.RandomCrop(im_size, im_size),\n",
    "    alb.HorizontalFlip(),\n",
    "    alb.ShiftScaleRotate(),\n",
    "    alb.Blur(),\n",
    "    alb.RandomGamma(),\n",
    "    alb.Sharpen(),\n",
    "    alb.GaussNoise(),\n",
    "    alb.CoarseDropout(16, 32, 32),\n",
    "    alb.CLAHE(),\n",
    "    alb.Normalize(mean=ImageData().image_net_mean, \n",
    "                  std=ImageData().image_net_std)])\n",
    "\n",
    "# For validation and testing, we do not want any augmentations\n",
    "# but we will still need the correct input size and image normalization\n",
    "val_transform = alb.Compose([\n",
    "    alb.Resize(im_size, im_size),\n",
    "    alb.Normalize(mean=ImageData().image_net_mean, \n",
    "                  std=ImageData().image_net_std)])"
   ]
  },
  {
   "cell_type": "code",
   "execution_count": 7,
   "id": "5edc6ffb-c54a-41ab-b899-20190b777ea8",
   "metadata": {},
   "outputs": [
    {
     "name": "stderr",
     "output_type": "stream",
     "text": [
      "INFO:computervision.imageproc:All files validated.\n",
      "INFO:computervision.imageproc:All files validated.\n",
      "INFO:computervision.imageproc:All files validated.\n"
     ]
    }
   ],
   "source": [
    "# Create the data sets from the data frame\n",
    "train_dataset = DatasetFromDF(data=train_df,\n",
    "                              file_col='box_file',\n",
    "                              label_col='cl',\n",
    "                              max_image_size=max_image_size,\n",
    "                              transform=train_transform,\n",
    "                              validate=True)\n",
    "\n",
    "val_dataset = DatasetFromDF(data=val_df,\n",
    "                            file_col='box_file',\n",
    "                            label_col='cl',\n",
    "                            max_image_size=max_image_size,\n",
    "                            transform=val_transform,\n",
    "                            validate=True)\n",
    "\n",
    "test_dataset = DatasetFromDF(data=test_df,\n",
    "                             file_col='box_file',\n",
    "                             label_col='cl',\n",
    "                             max_image_size=max_image_size,\n",
    "                             transform=val_transform,\n",
    "                             validate=True)"
   ]
  },
  {
   "cell_type": "markdown",
   "id": "e7fcd0da-cf40-4be0-89d8-ce31b7ce67d3",
   "metadata": {},
   "source": [
    "### Training the model with learning rate scheduling ###"
   ]
  },
  {
   "cell_type": "code",
   "execution_count": 9,
   "id": "dd022a73-b7b9-45f5-8aaa-14fc6314aaa5",
   "metadata": {},
   "outputs": [],
   "source": [
    "# Model parameters and name\n",
    "seed = 234\n",
    "model_name = 'FancyLR'\n",
    "model_version = 1\n",
    "# Train for 40 epochs to get good results\n",
    "max_epochs = 5\n",
    "num_classes = 4\n",
    "num_workers = 2\n",
    "batch_size = 16\n",
    "initial_lr = 1.0e-3\n",
    "check_val_every_n_epoch = 1\n",
    "checkpoint_every_n_epoch = 2\n",
    "save_top_k = 3"
   ]
  },
  {
   "cell_type": "code",
   "execution_count": 10,
   "id": "b5dcb282-f6e9-4445-bc6e-b12f0ee2ca91",
   "metadata": {},
   "outputs": [],
   "source": [
    "# Create the model\n",
    "model = ToothModel(train_dataset=train_dataset,\n",
    "                   val_dataset=val_dataset,\n",
    "                   test_dataset=test_dataset,\n",
    "                   batch_size=batch_size,\n",
    "                   num_classes=num_classes,\n",
    "                   num_workers=num_workers,\n",
    "                   lr=initial_lr)\n",
    "\n",
    "# Setup logger\n",
    "logger = TensorBoardLogger(save_dir=model_dir,\n",
    "                           name=model_name,\n",
    "                           version=model_version)\n",
    "\n",
    "# Checkpoint callback\n",
    "checkpoint_dir = os.path.join(model_dir, \n",
    "                              model_name,\n",
    "                              f'version_{model_version}',\n",
    "                              'checkpoints')\n",
    "\n",
    "Path(checkpoint_dir).mkdir(exist_ok=True, parents=True)\n",
    "chk_callback = ModelCheckpoint(dirpath=checkpoint_dir,\n",
    "                               filename='dentexmodel-{epoch}',\n",
    "                               monitor='val_loss',\n",
    "                               mode='min',\n",
    "                               save_last=True,\n",
    "                               every_n_epochs=checkpoint_every_n_epoch,\n",
    "                               save_on_train_epoch_end=True,\n",
    "                               save_top_k=save_top_k)"
   ]
  },
  {
   "cell_type": "code",
   "execution_count": 11,
   "id": "499f1a01-ef39-4805-881b-19c9c162ba4c",
   "metadata": {},
   "outputs": [],
   "source": [
    "lr_finder = FineTuneLearningRateFinder(milestones=(5, 10), \n",
    "                                       min_lr=1.0e-8,  \n",
    "                                       max_lr=0.01, \n",
    "                                       num_training_steps=100,\n",
    "                                       mode='exponential',\n",
    "                                       early_stop_threshold=None,\n",
    "                                       update_attr=True)\n",
    "\n",
    "lr_starter = LearningRateFinder(min_lr=1.0e-8,  \n",
    "                                max_lr=0.01, \n",
    "                                num_training_steps=300,\n",
    "                                mode='exponential',\n",
    "                                early_stop_threshold=None,\n",
    "                                update_attr=True)\n",
    "\n",
    "lr_monitor = LearningRateMonitor(logging_interval='epoch',\n",
    "                                 log_momentum=True)"
   ]
  },
  {
   "cell_type": "code",
   "execution_count": 12,
   "id": "329da104-3967-49ef-8ce8-dadfad30eb35",
   "metadata": {},
   "outputs": [
    {
     "name": "stderr",
     "output_type": "stream",
     "text": [
      "GPU available: True (cuda), used: True\n",
      "TPU available: False, using: 0 TPU cores\n",
      "HPU available: False, using: 0 HPUs\n",
      "LOCAL_RANK: 0 - CUDA_VISIBLE_DEVICES: [0]\n"
     ]
    },
    {
     "name": "stdout",
     "output_type": "stream",
     "text": [
      "Training the \"FancyLR\" model for 5 epochs.\n",
      "\n"
     ]
    },
    {
     "name": "stderr",
     "output_type": "stream",
     "text": [
      "\n",
      "  | Name      | Type             | Params | Mode \n",
      "-------------------------------------------------------\n",
      "0 | model     | ResNet           | 24.6 M | train\n",
      "1 | criterion | CrossEntropyLoss | 0      | train\n",
      "2 | metrics   | ModuleDict       | 0      | train\n",
      "-------------------------------------------------------\n",
      "24.6 M    Trainable params\n",
      "0         Non-trainable params\n",
      "24.6 M    Total params\n",
      "98.237    Total estimated model params size (MB)\n",
      "161       Modules in train mode\n",
      "0         Modules in eval mode\n"
     ]
    },
    {
     "name": "stdout",
     "output_type": "stream",
     "text": [
      "Training: |          | 0/? [00:00<?, ?it/s]                                "
     ]
    },
    {
     "name": "stderr",
     "output_type": "stream",
     "text": [
      "\n",
      "Finding best initial lr:   0%|          | 0/100 [00:00<?, ?it/s]\u001b[A\n",
      "Finding best initial lr:   1%|          | 1/100 [00:00<00:16,  5.96it/s]\u001b[A\n",
      "Finding best initial lr:   3%|▎         | 3/100 [00:00<00:08, 10.88it/s]\u001b[A/usr/local/lib/python3.10/dist-packages/torchmetrics/utilities/prints.py:43: UserWarning: No positive samples in targets, true positive value should be meaningless. Returning zero tensor in true positive score\n",
      "  warnings.warn(*args, **kwargs)  # noqa: B028\n",
      "\n",
      "Finding best initial lr:   5%|▌         | 5/100 [00:00<00:08, 11.38it/s]\u001b[A\n",
      "Finding best initial lr:   7%|▋         | 7/100 [00:00<00:07, 11.70it/s]\u001b[A\n",
      "Finding best initial lr:   9%|▉         | 9/100 [00:00<00:07, 11.79it/s]\u001b[A\n",
      "Finding best initial lr:  11%|█         | 11/100 [00:00<00:07, 11.90it/s]\u001b[A\n",
      "Finding best initial lr:  13%|█▎        | 13/100 [00:01<00:07, 11.90it/s]\u001b[A\n",
      "Finding best initial lr:  15%|█▌        | 15/100 [00:01<00:07, 11.95it/s]\u001b[A\n",
      "Finding best initial lr:  17%|█▋        | 17/100 [00:01<00:06, 11.94it/s]\u001b[A\n",
      "Finding best initial lr:  19%|█▉        | 19/100 [00:01<00:06, 11.90it/s]\u001b[A\n",
      "Finding best initial lr:  21%|██        | 21/100 [00:01<00:06, 11.90it/s]\u001b[A\n",
      "Finding best initial lr:  23%|██▎       | 23/100 [00:01<00:06, 11.84it/s]\u001b[A\n",
      "Finding best initial lr:  25%|██▌       | 25/100 [00:02<00:06, 11.89it/s]\u001b[A\n",
      "Finding best initial lr:  27%|██▋       | 27/100 [00:02<00:06, 11.91it/s]\u001b[A\n",
      "Finding best initial lr:  29%|██▉       | 29/100 [00:02<00:05, 11.92it/s]\u001b[A\n",
      "Finding best initial lr:  31%|███       | 31/100 [00:02<00:05, 11.96it/s]\u001b[A\n",
      "Finding best initial lr:  33%|███▎      | 33/100 [00:02<00:05, 11.96it/s]\u001b[A\n",
      "Finding best initial lr:  35%|███▌      | 35/100 [00:02<00:05, 11.94it/s]\u001b[A\n",
      "Finding best initial lr:  37%|███▋      | 37/100 [00:03<00:05, 11.97it/s]\u001b[A\n",
      "Finding best initial lr:  39%|███▉      | 39/100 [00:03<00:05, 11.97it/s]\u001b[A\n",
      "Finding best initial lr:  41%|████      | 41/100 [00:03<00:04, 11.99it/s]\u001b[A\n",
      "Finding best initial lr:  43%|████▎     | 43/100 [00:03<00:04, 11.96it/s]\u001b[A\n",
      "Finding best initial lr:  45%|████▌     | 45/100 [00:03<00:04, 11.90it/s]\u001b[A\n",
      "Finding best initial lr:  47%|████▋     | 47/100 [00:03<00:04, 11.86it/s]\u001b[A\n",
      "Finding best initial lr:  49%|████▉     | 49/100 [00:04<00:04, 11.78it/s]\u001b[A\n",
      "Finding best initial lr:  51%|█████     | 51/100 [00:04<00:04, 11.88it/s]\u001b[A\n",
      "Finding best initial lr:  53%|█████▎    | 53/100 [00:04<00:03, 11.87it/s]\u001b[A\n",
      "Finding best initial lr:  55%|█████▌    | 55/100 [00:04<00:03, 11.87it/s]\u001b[A\n",
      "Finding best initial lr:  57%|█████▋    | 57/100 [00:04<00:03, 11.86it/s]\u001b[A\n",
      "Finding best initial lr:  59%|█████▉    | 59/100 [00:05<00:03, 11.79it/s]\u001b[A\n",
      "Finding best initial lr:  61%|██████    | 61/100 [00:05<00:03, 11.66it/s]\u001b[A\n",
      "Finding best initial lr:  63%|██████▎   | 63/100 [00:05<00:03, 11.68it/s]\u001b[A\n",
      "Finding best initial lr:  65%|██████▌   | 65/100 [00:05<00:02, 11.75it/s]\u001b[A\n",
      "Finding best initial lr:  67%|██████▋   | 67/100 [00:05<00:02, 11.59it/s]\u001b[A\n",
      "Finding best initial lr:  69%|██████▉   | 69/100 [00:05<00:02, 11.47it/s]\u001b[A\n",
      "Finding best initial lr:  71%|███████   | 71/100 [00:06<00:02, 11.48it/s]\u001b[A\n",
      "Finding best initial lr:  73%|███████▎  | 73/100 [00:06<00:02, 11.31it/s]\u001b[A\n",
      "Finding best initial lr:  75%|███████▌  | 75/100 [00:06<00:02, 11.41it/s]\u001b[A\n",
      "Finding best initial lr:  77%|███████▋  | 77/100 [00:06<00:02, 11.49it/s]\u001b[A\n",
      "Finding best initial lr:  79%|███████▉  | 79/100 [00:06<00:01, 11.35it/s]\u001b[A\n",
      "Finding best initial lr:  81%|████████  | 81/100 [00:06<00:01, 11.52it/s]\u001b[A\n",
      "Finding best initial lr:  83%|████████▎ | 83/100 [00:07<00:01, 11.55it/s]\u001b[A\n",
      "Finding best initial lr:  85%|████████▌ | 85/100 [00:07<00:01, 11.62it/s]\u001b[A\n",
      "Finding best initial lr:  87%|████████▋ | 87/100 [00:07<00:01, 11.64it/s]\u001b[A\n",
      "Finding best initial lr:  89%|████████▉ | 89/100 [00:07<00:00, 11.65it/s]\u001b[A\n",
      "Finding best initial lr:  91%|█████████ | 91/100 [00:07<00:00, 11.67it/s]\u001b[A\n",
      "Finding best initial lr:  93%|█████████▎| 93/100 [00:07<00:00, 11.65it/s]\u001b[A\n",
      "Finding best initial lr:  95%|█████████▌| 95/100 [00:08<00:00, 11.63it/s]\u001b[A\n",
      "Finding best initial lr:  97%|█████████▋| 97/100 [00:08<00:00, 11.55it/s]\u001b[A\n",
      "Finding best initial lr:  99%|█████████▉| 99/100 [00:08<00:00, 11.59it/s]\u001b[A`Trainer.fit` stopped: `max_steps=100` reached.\n",
      "Finding best initial lr: 100%|██████████| 100/100 [00:08<00:00, 11.61it/s]\n",
      "Learning rate set to 0.00047863009232263854\n",
      "Restoring states from the checkpoint path at /app/data/model/.lr_find_3e07612b-5528-4cc1-9551-422d513934fa.ckpt\n",
      "Restored all states from the checkpoint at /app/data/model/.lr_find_3e07612b-5528-4cc1-9551-422d513934fa.ckpt\n"
     ]
    },
    {
     "name": "stdout",
     "output_type": "stream",
     "text": [
      "Epoch 0:   1%|          | 2/206 [00:00<00:14, 14.41it/s, v_num=1, val_loss=1.390, val_accuracy=0.211, val_precision=0.106, val_recall=0.205, val_f1=0.138, val_auroc=0.458, val_lr=0.001]"
     ]
    },
    {
     "name": "stderr",
     "output_type": "stream",
     "text": [
      "/usr/local/lib/python3.10/dist-packages/torchmetrics/utilities/prints.py:43: UserWarning: No positive samples in targets, true positive value should be meaningless. Returning zero tensor in true positive score\n",
      "  warnings.warn(*args, **kwargs)  # noqa: B028\n"
     ]
    },
    {
     "name": "stdout",
     "output_type": "stream",
     "text": [
      "Epoch 1: 100%|██████████| 206/206 [00:19<00:00, 10.55it/s, v_num=1, val_loss=1.390, val_accuracy=0.211, val_precision=0.106, val_recall=0.205, val_f1=0.138, val_auroc=0.458, val_lr=0.001]\n",
      "Validation: |          | 0/? [00:00<?, ?it/s]\u001b[A\n",
      "Validation:   0%|          | 0/8 [00:00<?, ?it/s]\u001b[A\n",
      "Validation DataLoader 0:   0%|          | 0/8 [00:00<?, ?it/s]\u001b[A\n",
      "Validation DataLoader 0:  12%|█▎        | 1/8 [00:00<00:00, 17.03it/s]\u001b[A\n",
      "Validation DataLoader 0:  25%|██▌       | 2/8 [00:00<00:00, 17.77it/s]\u001b[A\n",
      "Validation DataLoader 0:  38%|███▊      | 3/8 [00:00<00:00, 18.50it/s]\u001b[A\n",
      "Validation DataLoader 0:  50%|█████     | 4/8 [00:00<00:00, 18.83it/s]\u001b[A\n",
      "Validation DataLoader 0:  62%|██████▎   | 5/8 [00:00<00:00, 19.28it/s]\u001b[A\n",
      "Validation DataLoader 0:  75%|███████▌  | 6/8 [00:00<00:00, 19.67it/s]\u001b[A\n",
      "Validation DataLoader 0:  88%|████████▊ | 7/8 [00:00<00:00, 19.99it/s]\u001b[A\n",
      "Validation DataLoader 0: 100%|██████████| 8/8 [00:00<00:00, 20.80it/s]\u001b[A\n",
      "Epoch 2: 100%|██████████| 206/206 [00:20<00:00,  9.84it/s, v_num=1, val_loss=1.950, val_accuracy=0.328, val_precision=0.184, val_recall=0.315, val_f1=0.194, val_auroc=0.671, val_lr=0.000479]\n",
      "Validation: |          | 0/? [00:00<?, ?it/s]\u001b[A\n",
      "Validation:   0%|          | 0/8 [00:00<?, ?it/s]\u001b[A\n",
      "Validation DataLoader 0:   0%|          | 0/8 [00:00<?, ?it/s]\u001b[A\n",
      "Validation DataLoader 0:  12%|█▎        | 1/8 [00:00<00:00, 13.06it/s]\u001b[A\n",
      "Validation DataLoader 0:  25%|██▌       | 2/8 [00:00<00:00, 14.18it/s]\u001b[A\n",
      "Validation DataLoader 0:  38%|███▊      | 3/8 [00:00<00:00, 14.51it/s]\u001b[A\n",
      "Validation DataLoader 0:  50%|█████     | 4/8 [00:00<00:00, 15.49it/s]\u001b[A\n",
      "Validation DataLoader 0:  62%|██████▎   | 5/8 [00:00<00:00, 16.28it/s]\u001b[A\n",
      "Validation DataLoader 0:  75%|███████▌  | 6/8 [00:00<00:00, 16.79it/s]\u001b[A\n",
      "Validation DataLoader 0:  88%|████████▊ | 7/8 [00:00<00:00, 17.20it/s]\u001b[A\n",
      "Validation DataLoader 0: 100%|██████████| 8/8 [00:00<00:00, 18.00it/s]\u001b[A\n",
      "Epoch 3: 100%|██████████| 206/206 [00:22<00:00,  9.24it/s, v_num=1, val_loss=1.780, val_accuracy=0.430, val_precision=0.290, val_recall=0.434, val_f1=0.319, val_auroc=0.735, val_lr=0.000479]\n",
      "Validation: |          | 0/? [00:00<?, ?it/s]\u001b[A\n",
      "Validation:   0%|          | 0/8 [00:00<?, ?it/s]\u001b[A\n",
      "Validation DataLoader 0:   0%|          | 0/8 [00:00<?, ?it/s]\u001b[A\n",
      "Validation DataLoader 0:  12%|█▎        | 1/8 [00:00<00:00, 12.04it/s]\u001b[A\n",
      "Validation DataLoader 0:  25%|██▌       | 2/8 [00:00<00:00, 13.35it/s]\u001b[A\n",
      "Validation DataLoader 0:  38%|███▊      | 3/8 [00:00<00:00, 13.98it/s]\u001b[A\n",
      "Validation DataLoader 0:  50%|█████     | 4/8 [00:00<00:00, 14.63it/s]\u001b[A\n",
      "Validation DataLoader 0:  62%|██████▎   | 5/8 [00:00<00:00, 15.14it/s]\u001b[A\n",
      "Validation DataLoader 0:  75%|███████▌  | 6/8 [00:00<00:00, 15.52it/s]\u001b[A\n",
      "Validation DataLoader 0:  88%|████████▊ | 7/8 [00:00<00:00, 15.66it/s]\u001b[A\n",
      "Validation DataLoader 0: 100%|██████████| 8/8 [00:00<00:00, 16.28it/s]\u001b[A\n",
      "Epoch 4: 100%|██████████| 206/206 [00:23<00:00,  8.73it/s, v_num=1, val_loss=1.770, val_accuracy=0.438, val_precision=0.316, val_recall=0.443, val_f1=0.320, val_auroc=0.778, val_lr=0.000479]\n",
      "Validation: |          | 0/? [00:00<?, ?it/s]\u001b[A\n",
      "Validation:   0%|          | 0/8 [00:00<?, ?it/s]\u001b[A\n",
      "Validation DataLoader 0:   0%|          | 0/8 [00:00<?, ?it/s]\u001b[A\n",
      "Validation DataLoader 0:  12%|█▎        | 1/8 [00:00<00:00, 11.06it/s]\u001b[A\n",
      "Validation DataLoader 0:  25%|██▌       | 2/8 [00:00<00:00, 12.06it/s]\u001b[A\n",
      "Validation DataLoader 0:  38%|███▊      | 3/8 [00:00<00:00, 12.73it/s]\u001b[A\n",
      "Validation DataLoader 0:  50%|█████     | 4/8 [00:00<00:00, 13.06it/s]\u001b[A\n",
      "Validation DataLoader 0:  62%|██████▎   | 5/8 [00:00<00:00, 13.60it/s]\u001b[A\n",
      "Validation DataLoader 0:  75%|███████▌  | 6/8 [00:00<00:00, 14.02it/s]\u001b[A\n",
      "Validation DataLoader 0:  88%|████████▊ | 7/8 [00:00<00:00, 14.27it/s]\u001b[A\n",
      "Validation DataLoader 0: 100%|██████████| 8/8 [00:00<00:00, 14.80it/s]\u001b[A\n",
      "Epoch 4: 100%|██████████| 206/206 [00:24<00:00,  8.48it/s, v_num=1, val_loss=2.070, val_accuracy=0.445, val_precision=0.301, val_recall=0.452, val_f1=0.334, val_auroc=0.688, val_lr=0.000479]"
     ]
    },
    {
     "name": "stderr",
     "output_type": "stream",
     "text": [
      "`Trainer.fit` stopped: `max_epochs=5` reached.\n"
     ]
    },
    {
     "name": "stdout",
     "output_type": "stream",
     "text": [
      "Epoch 4: 100%|██████████| 206/206 [00:25<00:00,  8.20it/s, v_num=1, val_loss=2.070, val_accuracy=0.445, val_precision=0.301, val_recall=0.452, val_f1=0.334, val_auroc=0.688, val_lr=0.000479]\n"
     ]
    }
   ],
   "source": [
    "print(f'Training the \"{model_name}\" model for {max_epochs} epochs.')\n",
    "print()\n",
    "\n",
    "tr = Trainer(max_epochs=max_epochs,\n",
    "             default_root_dir=model_dir,\n",
    "             callbacks=[chk_callback, lr_finder, lr_monitor],\n",
    "             logger=logger,\n",
    "             check_val_every_n_epoch=check_val_every_n_epoch)\n",
    "tr.fit(model)"
   ]
  }
 ],
 "metadata": {
  "kernelspec": {
   "display_name": "Python 3 (ipykernel)",
   "language": "python",
   "name": "python3"
  },
  "language_info": {
   "codemirror_mode": {
    "name": "ipython",
    "version": 3
   },
   "file_extension": ".py",
   "mimetype": "text/x-python",
   "name": "python",
   "nbconvert_exporter": "python",
   "pygments_lexer": "ipython3",
   "version": "3.10.12"
  }
 },
 "nbformat": 4,
 "nbformat_minor": 5
}
