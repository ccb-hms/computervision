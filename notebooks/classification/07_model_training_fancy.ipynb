{
 "cells": [
  {
   "cell_type": "markdown",
   "id": "ebc52caa-e5ff-42ad-9bb6-84891f453249",
   "metadata": {},
   "source": [
    "## Advanced model with learning rate scheduler and performance metrics ##"
   ]
  },
  {
   "cell_type": "code",
   "execution_count": 1,
   "id": "146bbe69-a3c4-430d-a5f8-74fa54188d44",
   "metadata": {},
   "outputs": [
    {
     "data": {
      "text/html": [
       "<style>.container { width:100% !important; }</style>"
      ],
      "text/plain": [
       "<IPython.core.display.HTML object>"
      ]
     },
     "metadata": {},
     "output_type": "display_data"
    },
    {
     "name": "stdout",
     "output_type": "stream",
     "text": [
      "dentexmodel package version:  0.0.post1.dev17+gaa1406c.d20240720\n"
     ]
    }
   ],
   "source": [
    "# Imports\n",
    "import os\n",
    "from pathlib import Path\n",
    "import numpy as np\n",
    "import pandas as pd\n",
    "import cv2\n",
    "import glob\n",
    "\n",
    "# Matplotlib for plotting\n",
    "from matplotlib import pyplot as plt\n",
    "from matplotlib.pyplot import cm\n",
    "\n",
    "# PyTorch packages\n",
    "import torch\n",
    "import torch.nn as nn\n",
    "from lightning.pytorch.loggers import TensorBoardLogger\n",
    "import lightning.pytorch as pl\n",
    "from lightning.pytorch import Trainer, seed_everything\n",
    "from lightning.pytorch.callbacks import ModelCheckpoint, LearningRateFinder, LearningRateMonitor\n",
    "import torchmetrics\n",
    "\n",
    "# Albumentations library\n",
    "import albumentations as alb\n",
    "\n",
    "# Appearance of the Notebook\n",
    "from IPython.display import display, HTML\n",
    "display(HTML(\"<style>.container { width:100% !important; }</style>\"))\n",
    "np.set_printoptions(linewidth=110)\n",
    "pd.set_option('display.max_rows', 500)\n",
    "pd.set_option('display.max_columns', 100)\n",
    "pd.set_option('display.width', 1000)\n",
    "\n",
    "# Import this module with autoreload\n",
    "%load_ext autoreload\n",
    "%autoreload 2\n",
    "import computervision as dm\n",
    "from computervision.fileutils import FileOP\n",
    "from computervision.imageproc import ImageData\n",
    "from computervision.models.toothmodel_fancy import ToothModel, FineTuneLearningRateFinder\n",
    "from computervision.torchdataset import DatasetFromDF, load_and_process_image\n",
    "print(f'dentexmodel package version:  {dm.__version__}')"
   ]
  },
  {
   "cell_type": "code",
   "execution_count": 2,
   "id": "c4853777-3273-45e0-9020-6bab6f4ed372",
   "metadata": {},
   "outputs": [
    {
     "name": "stdout",
     "output_type": "stream",
     "text": [
      "CUDA available: True\n",
      "Number of GPUs found:  1\n",
      "Current device ID:     0\n",
      "GPU device name:       NVIDIA GeForce GTX 1080 with Max-Q Design\n",
      "CUDNN version:         8902\n",
      "\n",
      "Device for model training/inference: cuda:0\n"
     ]
    }
   ],
   "source": [
    "# GPU checks\n",
    "is_cuda = torch.cuda.is_available()\n",
    "print(f'CUDA available: {is_cuda}')\n",
    "print(f'Number of GPUs found:  {torch.cuda.device_count()}')\n",
    "\n",
    "if is_cuda:\n",
    "    print(f'Current device ID:     {torch.cuda.current_device()}')\n",
    "    print(f'GPU device name:       {torch.cuda.get_device_name(0)}')\n",
    "    print(f'CUDNN version:         {torch.backends.cudnn.version()}')\n",
    "    device_str = 'cuda:0'\n",
    "    torch.cuda.empty_cache() \n",
    "else:\n",
    "    device_str = 'cpu'\n",
    "device = torch.device(device_str)\n",
    "print()\n",
    "print(f'Device for model training/inference: {device}')"
   ]
  },
  {
   "cell_type": "code",
   "execution_count": 3,
   "id": "fb742ac6-b8be-4342-97cc-b91acf1e3805",
   "metadata": {},
   "outputs": [],
   "source": [
    "# Path settings \n",
    "# Main data directory (defined as environment variable in docker-compose.yml)\n",
    "data_root = os.environ.get('DATA_ROOT')\n",
    "\n",
    "# Download directory (change as needed)\n",
    "dentex_dir = os.path.join(data_root, 'dentex')\n",
    "model_dir = os.path.join(data_root, 'model')\n",
    "data_dir = os.path.join(dentex_dir, 'dentex_classification')\n",
    "\n",
    "# This image directory is where the xrays are in the archive, so should be left as-is\n",
    "image_dir = os.path.join(data_dir, 'quadrant-enumeration-disease', 'xrays')\n",
    "cropped_image_dir = os.path.join(image_dir, 'crop')\n",
    "\n",
    "# Directory for the output\n",
    "output_dir = os.path.join(data_dir, 'output')\n",
    "\n",
    "data_file_name = 'dentex_disease_datasplit.parquet'\n",
    "data_file = os.path.join(data_dir, data_file_name)"
   ]
  },
  {
   "cell_type": "markdown",
   "id": "d7358557-53d8-4d69-b694-55c406c0f47f",
   "metadata": {},
   "source": [
    "### Create PyTorch datasets from data frame ###"
   ]
  },
  {
   "cell_type": "code",
   "execution_count": 4,
   "id": "64692d68-33f9-4a65-a937-6fa485594f55",
   "metadata": {},
   "outputs": [
    {
     "data": {
      "text/plain": [
       "Caries               1\n",
       "Deep Caries          3\n",
       "Impacted             0\n",
       "Periapical Lesion    2\n",
       "Name: 0, dtype: int64"
      ]
     },
     "metadata": {},
     "output_type": "display_data"
    }
   ],
   "source": [
    "data_df = pd.read_parquet(data_file)\n",
    "# Convert class names to labels\n",
    "cl_names = sorted(list(data_df['label'].unique()))\n",
    "# Get the class labels\n",
    "cl_numbers = [data_df.loc[data_df['label'] == label, 'cl'].values[0] for label in cl_names]\n",
    "label_dict = dict(zip(cl_names, cl_numbers))\n",
    "cl_dict = dict(zip(cl_numbers, cl_names))\n",
    "# Show the class labels\n",
    "display(pd.DataFrame(label_dict, index=[0]).iloc[0])"
   ]
  },
  {
   "cell_type": "code",
   "execution_count": 5,
   "id": "c0af688f-9c27-4227-8374-06643a7c49a5",
   "metadata": {},
   "outputs": [
    {
     "name": "stdout",
     "output_type": "stream",
     "text": [
      "Found 3289 samples in the training set.\n",
      "Found 120 samples in the validation set.\n",
      "Found 120 samples in the test set.\n",
      "\n"
     ]
    }
   ],
   "source": [
    "# Select the samples for training, validation and testing from our data frame\n",
    "train_df = data_df.loc[data_df['dataset']=='train']\n",
    "val_df = data_df.loc[data_df['dataset']=='val']\n",
    "test_df = data_df.loc[data_df['dataset']=='test']\n",
    "\n",
    "train_samples = sorted(list(train_df['box_name'].unique()))\n",
    "print(f'Found {len(train_samples)} samples in the training set.')\n",
    "val_samples = sorted(list(val_df['box_name'].unique()))\n",
    "print(f'Found {len(val_samples)} samples in the validation set.')\n",
    "test_samples = sorted(list(test_df['box_name'].unique()))\n",
    "print(f'Found {len(test_samples)} samples in the test set.')\n",
    "print()"
   ]
  },
  {
   "cell_type": "code",
   "execution_count": 6,
   "id": "b366254d-a33b-4779-855a-48242cf1f6cc",
   "metadata": {},
   "outputs": [],
   "source": [
    "# Augmentations\n",
    "# Image augmentations is part of the PyTorch dataset\n",
    "\n",
    "# The output of this transformation must match the required input size for the model\n",
    "max_image_size = 550\n",
    "im_size = 224\n",
    "\n",
    "# Definition of the image augmentations for the training set\n",
    "train_transform = alb.Compose([\n",
    "    alb.Resize(im_size + 32, im_size + 32),\n",
    "    alb.RandomCrop(im_size, im_size),\n",
    "    alb.HorizontalFlip(),\n",
    "    alb.ShiftScaleRotate(),\n",
    "    alb.Blur(),\n",
    "    alb.RandomGamma(),\n",
    "    alb.Sharpen(),\n",
    "    alb.GaussNoise(),\n",
    "    alb.CoarseDropout(16, 32, 32),\n",
    "    alb.CLAHE(),\n",
    "    alb.Normalize(mean=ImageData().image_net_mean, \n",
    "                  std=ImageData().image_net_std)])\n",
    "\n",
    "# For validation and testing, we do not want any augmentations\n",
    "# but we will still need the correct input size and image normalization\n",
    "val_transform = alb.Compose([\n",
    "    alb.Resize(im_size, im_size),\n",
    "    alb.Normalize(mean=ImageData().image_net_mean, \n",
    "                  std=ImageData().image_net_std)])"
   ]
  },
  {
   "cell_type": "code",
   "execution_count": 7,
   "id": "5edc6ffb-c54a-41ab-b899-20190b777ea8",
   "metadata": {},
   "outputs": [
    {
     "name": "stderr",
     "output_type": "stream",
     "text": [
      "INFO:computervision.imageproc:All files validated.\n",
      "INFO:computervision.imageproc:All files validated.\n",
      "INFO:computervision.imageproc:All files validated.\n"
     ]
    }
   ],
   "source": [
    "# Create the data sets from the data frame\n",
    "train_dataset = DatasetFromDF(data=train_df,\n",
    "                              file_col='box_file',\n",
    "                              label_col='cl',\n",
    "                              max_image_size=max_image_size,\n",
    "                              transform=train_transform,\n",
    "                              validate=True)\n",
    "\n",
    "val_dataset = DatasetFromDF(data=val_df,\n",
    "                            file_col='box_file',\n",
    "                            label_col='cl',\n",
    "                            max_image_size=max_image_size,\n",
    "                            transform=val_transform,\n",
    "                            validate=True)\n",
    "\n",
    "test_dataset = DatasetFromDF(data=test_df,\n",
    "                             file_col='box_file',\n",
    "                             label_col='cl',\n",
    "                             max_image_size=max_image_size,\n",
    "                             transform=val_transform,\n",
    "                             validate=True)"
   ]
  },
  {
   "cell_type": "markdown",
   "id": "e7fcd0da-cf40-4be0-89d8-ce31b7ce67d3",
   "metadata": {},
   "source": [
    "### Training the model with learning rate scheduling ###"
   ]
  },
  {
   "cell_type": "code",
   "execution_count": 8,
   "id": "dd022a73-b7b9-45f5-8aaa-14fc6314aaa5",
   "metadata": {},
   "outputs": [],
   "source": [
    "# Model parameters and name\n",
    "seed = 234\n",
    "model_name = 'FancyLR'\n",
    "model_version = 1\n",
    "# Train for 40 epochs to get good results\n",
    "max_epochs = 80\n",
    "num_classes = 4\n",
    "num_workers = 2\n",
    "batch_size = 16\n",
    "initial_lr = 1.0e-3\n",
    "check_val_every_n_epoch = 1\n",
    "checkpoint_every_n_epoch = 2\n",
    "save_top_k = 3"
   ]
  },
  {
   "cell_type": "code",
   "execution_count": 9,
   "id": "b5dcb282-f6e9-4445-bc6e-b12f0ee2ca91",
   "metadata": {},
   "outputs": [],
   "source": [
    "# Create the model\n",
    "model = ToothModel(train_dataset=train_dataset,\n",
    "                   val_dataset=val_dataset,\n",
    "                   test_dataset=test_dataset,\n",
    "                   batch_size=batch_size,\n",
    "                   num_classes=num_classes,\n",
    "                   num_workers=num_workers,\n",
    "                   lr=initial_lr)\n",
    "\n",
    "# Setup logger\n",
    "logger = TensorBoardLogger(save_dir=model_dir,\n",
    "                           name=model_name,\n",
    "                           version=model_version)\n",
    "\n",
    "# Checkpoint callback\n",
    "checkpoint_dir = os.path.join(model_dir, \n",
    "                              model_name,\n",
    "                              f'version_{model_version}',\n",
    "                              'checkpoints')\n",
    "\n",
    "Path(checkpoint_dir).mkdir(exist_ok=True, parents=True)\n",
    "chk_callback = ModelCheckpoint(dirpath=checkpoint_dir,\n",
    "                               filename='dentexmodel-{epoch}',\n",
    "                               monitor='val_loss',\n",
    "                               mode='min',\n",
    "                               save_last=True,\n",
    "                               every_n_epochs=checkpoint_every_n_epoch,\n",
    "                               save_on_train_epoch_end=True,\n",
    "                               save_top_k=save_top_k)"
   ]
  },
  {
   "cell_type": "code",
   "execution_count": 10,
   "id": "499f1a01-ef39-4805-881b-19c9c162ba4c",
   "metadata": {},
   "outputs": [],
   "source": [
    "lr_finder = FineTuneLearningRateFinder(milestones=(5, 10), \n",
    "                                       min_lr=1.0e-8,  \n",
    "                                       max_lr=0.01, \n",
    "                                       num_training_steps=100,\n",
    "                                       mode='exponential',\n",
    "                                       early_stop_threshold=None,\n",
    "                                       update_attr=True)\n",
    "\n",
    "lr_starter = LearningRateFinder(min_lr=1.0e-8,  \n",
    "                                max_lr=0.01, \n",
    "                                num_training_steps=300,\n",
    "                                mode='exponential',\n",
    "                                early_stop_threshold=None,\n",
    "                                update_attr=True)\n",
    "\n",
    "lr_monitor = LearningRateMonitor(logging_interval='epoch',\n",
    "                                 log_momentum=True)"
   ]
  },
  {
   "cell_type": "code",
   "execution_count": 11,
   "id": "329da104-3967-49ef-8ce8-dadfad30eb35",
   "metadata": {},
   "outputs": [
    {
     "name": "stderr",
     "output_type": "stream",
     "text": [
      "GPU available: True (cuda), used: True\n",
      "TPU available: False, using: 0 TPU cores\n",
      "HPU available: False, using: 0 HPUs\n"
     ]
    },
    {
     "name": "stdout",
     "output_type": "stream",
     "text": [
      "Training the \"FancyLR\" model for 80 epochs.\n",
      "\n"
     ]
    },
    {
     "name": "stderr",
     "output_type": "stream",
     "text": [
      "2024-07-20 10:31:15.636980: E external/local_xla/xla/stream_executor/cuda/cuda_fft.cc:485] Unable to register cuFFT factory: Attempting to register factory for plugin cuFFT when one has already been registered\n",
      "2024-07-20 10:31:15.650360: E external/local_xla/xla/stream_executor/cuda/cuda_dnn.cc:8454] Unable to register cuDNN factory: Attempting to register factory for plugin cuDNN when one has already been registered\n",
      "2024-07-20 10:31:15.654436: E external/local_xla/xla/stream_executor/cuda/cuda_blas.cc:1452] Unable to register cuBLAS factory: Attempting to register factory for plugin cuBLAS when one has already been registered\n",
      "2024-07-20 10:31:15.664593: I tensorflow/core/platform/cpu_feature_guard.cc:210] This TensorFlow binary is optimized to use available CPU instructions in performance-critical operations.\n",
      "To enable the following instructions: AVX2 FMA, in other operations, rebuild TensorFlow with the appropriate compiler flags.\n",
      "2024-07-20 10:31:16.691962: W tensorflow/compiler/tf2tensorrt/utils/py_utils.cc:38] TF-TRT Warning: Could not find TensorRT\n",
      "LOCAL_RANK: 0 - CUDA_VISIBLE_DEVICES: [0]\n",
      "\n",
      "  | Name      | Type             | Params | Mode \n",
      "-------------------------------------------------------\n",
      "0 | model     | ResNet           | 24.6 M | train\n",
      "1 | criterion | CrossEntropyLoss | 0      | train\n",
      "2 | metrics   | ModuleDict       | 0      | train\n",
      "-------------------------------------------------------\n",
      "24.6 M    Trainable params\n",
      "0         Non-trainable params\n",
      "24.6 M    Total params\n",
      "98.237    Total estimated model params size (MB)\n"
     ]
    },
    {
     "data": {
      "application/vnd.jupyter.widget-view+json": {
       "model_id": "",
       "version_major": 2,
       "version_minor": 0
      },
      "text/plain": [
       "Sanity Checking: |                                                                                            …"
      ]
     },
     "metadata": {},
     "output_type": "display_data"
    },
    {
     "data": {
      "application/vnd.jupyter.widget-view+json": {
       "model_id": "e1479ef4ee184a5f8b82dddb3ef6a95a",
       "version_major": 2,
       "version_minor": 0
      },
      "text/plain": [
       "Training: |                                                                                                   …"
      ]
     },
     "metadata": {},
     "output_type": "display_data"
    },
    {
     "data": {
      "application/vnd.jupyter.widget-view+json": {
       "model_id": "5c873e8d373447d0958017baf1b56f7c",
       "version_major": 2,
       "version_minor": 0
      },
      "text/plain": [
       "Finding best initial lr:   0%|          | 0/100 [00:00<?, ?it/s]"
      ]
     },
     "metadata": {},
     "output_type": "display_data"
    },
    {
     "name": "stderr",
     "output_type": "stream",
     "text": [
      "/home/andreas/gitrepos/computervision/.venv/lib/python3.10/site-packages/torchmetrics/utilities/prints.py:43: UserWarning: No positive samples in targets, true positive value should be meaningless. Returning zero tensor in true positive score\n",
      "  warnings.warn(*args, **kwargs)  # noqa: B028\n",
      "`Trainer.fit` stopped: `max_steps=100` reached.\n",
      "Learning rate set to 0.00018197008586099826\n",
      "Restoring states from the checkpoint path at /home/andreas/data/computervision/model/.lr_find_f8ac7e77-4785-4a86-9cc8-9c97d265f470.ckpt\n",
      "Restored all states from the checkpoint at /home/andreas/data/computervision/model/.lr_find_f8ac7e77-4785-4a86-9cc8-9c97d265f470.ckpt\n",
      "/home/andreas/gitrepos/computervision/.venv/lib/python3.10/site-packages/torchmetrics/utilities/prints.py:43: UserWarning: No positive samples in targets, true positive value should be meaningless. Returning zero tensor in true positive score\n",
      "  warnings.warn(*args, **kwargs)  # noqa: B028\n",
      "/home/andreas/gitrepos/computervision/.venv/lib/python3.10/site-packages/lightning/pytorch/trainer/call.py:54: Detected KeyboardInterrupt, attempting graceful shutdown...\n"
     ]
    }
   ],
   "source": [
    "print(f'Training the \"{model_name}\" model for {max_epochs} epochs.')\n",
    "print()\n",
    "\n",
    "tr = Trainer(max_epochs=max_epochs,\n",
    "             default_root_dir=model_dir,\n",
    "             callbacks=[chk_callback, lr_finder, lr_monitor],\n",
    "             logger=logger,\n",
    "             check_val_every_n_epoch=check_val_every_n_epoch)\n",
    "tr.fit(model)"
   ]
  }
 ],
 "metadata": {
  "kernelspec": {
   "display_name": "Python 3 (ipykernel)",
   "language": "python",
   "name": "python3"
  },
  "language_info": {
   "codemirror_mode": {
    "name": "ipython",
    "version": 3
   },
   "file_extension": ".py",
   "mimetype": "text/x-python",
   "name": "python",
   "nbconvert_exporter": "python",
   "pygments_lexer": "ipython3",
   "version": "3.10.11"
  }
 },
 "nbformat": 4,
 "nbformat_minor": 5
}
