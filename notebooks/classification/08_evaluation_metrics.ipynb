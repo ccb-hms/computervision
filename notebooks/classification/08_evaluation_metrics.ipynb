{
 "cells": [
  {
   "cell_type": "markdown",
   "id": "ebc52caa-e5ff-42ad-9bb6-84891f453249",
   "metadata": {},
   "source": [
    "## Performance Metrics and Logging ##\n",
    "Logging of performance metrics during training an evaluation"
   ]
  },
  {
   "cell_type": "code",
   "execution_count": 2,
   "id": "146bbe69-a3c4-430d-a5f8-74fa54188d44",
   "metadata": {},
   "outputs": [
    {
     "data": {
      "text/html": [
       "<style>.container { width:100% !important; }</style>"
      ],
      "text/plain": [
       "<IPython.core.display.HTML object>"
      ]
     },
     "metadata": {},
     "output_type": "display_data"
    },
    {
     "name": "stdout",
     "output_type": "stream",
     "text": [
      "The autoreload extension is already loaded. To reload it, use:\n",
      "  %reload_ext autoreload\n",
      "dentexmodel package version:  0.0.post1.dev163+g9fa083d.d20240224\n"
     ]
    }
   ],
   "source": [
    "# Imports\n",
    "import os\n",
    "from pathlib import Path\n",
    "import numpy as np\n",
    "import pandas as pd\n",
    "import cv2\n",
    "import glob\n",
    "\n",
    "# Matplotlib for plotting\n",
    "from matplotlib import pyplot as plt\n",
    "from matplotlib.pyplot import cm\n",
    "\n",
    "# PyTorch packages\n",
    "import torch\n",
    "import torch.nn as nn\n",
    "import lightning.pytorch as pl\n",
    "from lightning.pytorch import Trainer, seed_everything\n",
    "from lightning.pytorch.callbacks import ModelCheckpoint\n",
    "import torchmetrics\n",
    "\n",
    "# Albumentations library\n",
    "import albumentations as alb\n",
    "\n",
    "# Appearance of the Notebook\n",
    "from IPython.display import display, HTML\n",
    "display(HTML(\"<style>.container { width:100% !important; }</style>\"))\n",
    "np.set_printoptions(linewidth=110)\n",
    "pd.set_option('display.max_rows', 500)\n",
    "pd.set_option('display.max_columns', 100)\n",
    "pd.set_option('display.width', 1000)\n",
    "\n",
    "# Import this module with autoreload\n",
    "%load_ext autoreload\n",
    "%autoreload 2\n",
    "import dentexmodel as dm\n",
    "from dentexmodel.fileutils import FileOP\n",
    "from dentexmodel.imageproc import ImageData\n",
    "from dentexmodel.torchdataset import DatasetFromDF, load_and_process_image\n",
    "print(f'dentexmodel package version:  {dm.__version__}')"
   ]
  },
  {
   "cell_type": "code",
   "execution_count": 3,
   "id": "d87a7cbf-1e5f-4504-b5c9-b2072f68f453",
   "metadata": {},
   "outputs": [
    {
     "name": "stdout",
     "output_type": "stream",
     "text": [
      "CUDA available: True\n",
      "Number of GPUs found:  1\n",
      "Current device ID:     0\n",
      "GPU device name:       NVIDIA GeForce RTX 3070 Laptop GPU\n",
      "CUDNN version:         8902\n",
      "\n",
      "Device for model training/inference: cuda:0\n"
     ]
    }
   ],
   "source": [
    "# GPU checks\n",
    "is_cuda = torch.cuda.is_available()\n",
    "print(f'CUDA available: {is_cuda}')\n",
    "print(f'Number of GPUs found:  {torch.cuda.device_count()}')\n",
    "\n",
    "if is_cuda:\n",
    "    print(f'Current device ID:     {torch.cuda.current_device()}')\n",
    "    print(f'GPU device name:       {torch.cuda.get_device_name(0)}')\n",
    "    print(f'CUDNN version:         {torch.backends.cudnn.version()}')\n",
    "    device_str = 'cuda:0'\n",
    "    torch.cuda.empty_cache() \n",
    "else:\n",
    "    device_str = 'cpu'\n",
    "device = torch.device(device_str)\n",
    "print()\n",
    "print(f'Device for model training/inference: {device}')"
   ]
  },
  {
   "cell_type": "code",
   "execution_count": 4,
   "id": "fb742ac6-b8be-4342-97cc-b91acf1e3805",
   "metadata": {},
   "outputs": [],
   "source": [
    "# Path settings \n",
    "# Main data directory (defined as environment variable in docker-compose.yml)\n",
    "data_root = os.environ.get('DATA_ROOT')\n",
    "\n",
    "# Download directory (change as needed)\n",
    "dentex_dir = os.path.join(data_root, 'dentex')\n",
    "model_dir = os.path.join(data_root, 'model')\n",
    "data_dir = os.path.join(dentex_dir, 'dentex_classification')\n",
    "\n",
    "# This image directory is where the xrays are in the archive, so should be left as-is\n",
    "image_dir = os.path.join(data_dir, 'quadrant-enumeration-disease', 'xrays')\n",
    "cropped_image_dir = os.path.join(image_dir, 'crop')\n",
    "\n",
    "# Directory for the output\n",
    "output_dir = os.path.join(data_dir, 'output')\n",
    "\n",
    "data_file_name = 'dentex_disease_datasplit.parquet'\n",
    "data_file = os.path.join(data_dir, data_file_name)"
   ]
  },
  {
   "cell_type": "markdown",
   "id": "d7358557-53d8-4d69-b694-55c406c0f47f",
   "metadata": {},
   "source": [
    "### Create PyTorch datasets from data frame ###"
   ]
  },
  {
   "cell_type": "code",
   "execution_count": 5,
   "id": "64692d68-33f9-4a65-a937-6fa485594f55",
   "metadata": {},
   "outputs": [
    {
     "data": {
      "text/plain": [
       "Caries               1\n",
       "Deep Caries          3\n",
       "Impacted             0\n",
       "Periapical Lesion    2\n",
       "Name: 0, dtype: int64"
      ]
     },
     "metadata": {},
     "output_type": "display_data"
    }
   ],
   "source": [
    "data_df = pd.read_parquet(data_file)\n",
    "# Convert class names to labels\n",
    "cl_names = sorted(list(data_df['label'].unique()))\n",
    "# Get the class labels\n",
    "cl_numbers = [data_df.loc[data_df['label'] == label, 'cl'].values[0] for label in cl_names]\n",
    "label_dict = dict(zip(cl_names, cl_numbers))\n",
    "cl_dict = dict(zip(cl_numbers, cl_names))\n",
    "# Show the class labels\n",
    "display(pd.DataFrame(label_dict, index=[0]).iloc[0])"
   ]
  },
  {
   "cell_type": "code",
   "execution_count": 6,
   "id": "c0af688f-9c27-4227-8374-06643a7c49a5",
   "metadata": {},
   "outputs": [
    {
     "name": "stdout",
     "output_type": "stream",
     "text": [
      "Found 3289 samples in the training set.\n",
      "Found 120 samples in the validation set.\n",
      "Found 120 samples in the test set.\n",
      "\n"
     ]
    }
   ],
   "source": [
    "# Select the samples for training, validation and testing from our data frame\n",
    "train_df = data_df.loc[data_df['dataset']=='train']\n",
    "val_df = data_df.loc[data_df['dataset']=='val']\n",
    "test_df = data_df.loc[data_df['dataset']=='test']\n",
    "\n",
    "train_samples = sorted(list(train_df['box_name'].unique()))\n",
    "print(f'Found {len(train_samples)} samples in the training set.')\n",
    "val_samples = sorted(list(val_df['box_name'].unique()))\n",
    "print(f'Found {len(val_samples)} samples in the validation set.')\n",
    "test_samples = sorted(list(test_df['box_name'].unique()))\n",
    "print(f'Found {len(test_samples)} samples in the test set.')\n",
    "print()"
   ]
  },
  {
   "cell_type": "code",
   "execution_count": 7,
   "id": "b366254d-a33b-4779-855a-48242cf1f6cc",
   "metadata": {},
   "outputs": [],
   "source": [
    "# The output of this transformation must match the required input size for the model\n",
    "max_image_size = 550\n",
    "im_size = 224\n",
    "\n",
    "# For validation and testing, we do not want any augmentations\n",
    "# but we will still need the correct input size and image normalization\n",
    "val_transform = alb.Compose([\n",
    "    alb.Resize(im_size, im_size),\n",
    "    alb.Normalize(mean=ImageData().image_net_mean, \n",
    "                  std=ImageData().image_net_std)])"
   ]
  },
  {
   "cell_type": "code",
   "execution_count": 8,
   "id": "5edc6ffb-c54a-41ab-b899-20190b777ea8",
   "metadata": {},
   "outputs": [],
   "source": [
    "# Create the test data set from the data frame\n",
    "test_dataset = DatasetFromDF(data=test_df,\n",
    "                             file_col='box_file',\n",
    "                             label_col='cl',\n",
    "                             max_image_size=max_image_size,\n",
    "                             transform=val_transform,\n",
    "                             validate=True)"
   ]
  },
  {
   "cell_type": "markdown",
   "id": "edc85351-1c32-4eb6-b3dc-291c92bf2d56",
   "metadata": {},
   "source": [
    "### Load model from checkpoint ###"
   ]
  },
  {
   "cell_type": "code",
   "execution_count": 9,
   "id": "32b2c636-8454-4a32-aafe-33152588017b",
   "metadata": {},
   "outputs": [
    {
     "name": "stdout",
     "output_type": "stream",
     "text": [
      "Using checkpoint file \"last.ckpt\" in /app/data/model/FancyLR/version_1/checkpoints.\n"
     ]
    }
   ],
   "source": [
    "from dentexmodel.models.toothmodel_fancy import ToothModel\n",
    "link = 'https://dsets.s3.amazonaws.com/dentex/toothmodel_fancy_40.ckpt'\n",
    "\n",
    "# Let's see if we have a saved checkpoint\n",
    "# The previous training notebook should have the defined model name\n",
    "model_name = 'FancyLR'\n",
    "model_version = 1\n",
    "\n",
    "# The latest checkpoint should be here\n",
    "checkpoint_dir = os.path.join(model_dir, \n",
    "                              model_name,\n",
    "                              f'version_{model_version}',\n",
    "                              'checkpoints')\n",
    "\n",
    "last_checkpoint = glob.glob(os.path.join(checkpoint_dir, 'last.ckpt'))\n",
    "if len(last_checkpoint) > 0:\n",
    "    print(f'Using checkpoint file \"last.ckpt\" in {checkpoint_dir}.')\n",
    "    checkpoint_file = last_checkpoint[0]\n",
    "else:\n",
    "    print(f'Last checkpoint file \"last.ckpt\" not found in {checkpoint_dir}.')\n",
    "    print(f'Downloading checkpoint from {link}')\n",
    "    Path(checkpoint_dir).mkdir(parents=True, exist_ok=True)\n",
    "    checkpoint_file = FileOP().download_from_url(url=link, download_dir=checkpoint_dir)"
   ]
  },
  {
   "cell_type": "code",
   "execution_count": 10,
   "id": "32612ccb-306e-44a5-97da-b4b064e15367",
   "metadata": {},
   "outputs": [],
   "source": [
    "batch_size = 16\n",
    "num_classes = 4\n",
    "model = ToothModel.load_from_checkpoint(checkpoint_file,\n",
    "                                        test_dataset=test_dataset, \n",
    "                                        map_location=device,\n",
    "                                        batch_size=batch_size,\n",
    "                                        num_classes=num_classes,\n",
    "                                        num_workers=1)"
   ]
  },
  {
   "cell_type": "code",
   "execution_count": 11,
   "id": "3d9b3e30-cc88-46e2-ba82-49112c2321fe",
   "metadata": {},
   "outputs": [
    {
     "data": {
      "text/plain": [
       "torch.Size([16, 3, 224, 224])"
      ]
     },
     "metadata": {},
     "output_type": "display_data"
    },
    {
     "data": {
      "text/plain": [
       "torch.Size([16])"
      ]
     },
     "metadata": {},
     "output_type": "display_data"
    }
   ],
   "source": [
    "# We try the metrics with the trained model\n",
    "# Load a test batch\n",
    "dl = model.test_dataloader()\n",
    "test_image_batch, test_label_batch = next(iter(dl))\n",
    "display(test_image_batch.shape)\n",
    "display(test_label_batch.shape)\n",
    "\n",
    "# Forward - pass on the test batch\n",
    "pred = model(test_image_batch.to(device))"
   ]
  },
  {
   "cell_type": "markdown",
   "id": "6c738675-5645-40cf-91b9-890d4c8f2a5e",
   "metadata": {},
   "source": [
    "### Performance metrics: sklearn.metrics library ###\n",
    "Here is a good description of performance metrics for multi-class classification\n",
    "https://www.evidentlyai.com/classification-metrics/multi-class-metrics"
   ]
  },
  {
   "cell_type": "code",
   "execution_count": 12,
   "id": "c184dcf7-31c5-46e4-ba3c-6ef9872fa786",
   "metadata": {},
   "outputs": [
    {
     "name": "stdout",
     "output_type": "stream",
     "text": [
      "True class labels:      [3 0 3 0 0 2 2 1 2 2 0 2 3 2 3 2]\n",
      "Predicted class labels: [3 0 3 0 1 2 1 1 1 1 0 1 1 1 3 2]\n",
      "The accuracy should be: 0.562\n",
      "Scikit-Learn:           0.5625\n",
      "\n",
      "Precision for class label 0: 1.0\n",
      "[0, 1, 0, 1, 1, 0, 0, 0, 0, 0, 1, 0, 0, 0, 0, 0]\n",
      "[0, 1, 0, 1, 0, 0, 0, 0, 0, 0, 1, 0, 0, 0, 0, 0]\n",
      "\n",
      "Precision for class label 1: 0.125\n",
      "[0, 0, 0, 0, 0, 0, 0, 1, 0, 0, 0, 0, 0, 0, 0, 0]\n",
      "[0, 0, 0, 0, 1, 0, 1, 1, 1, 1, 0, 1, 1, 1, 0, 0]\n",
      "\n",
      "Precision for class label 2: 1.0\n",
      "[0, 0, 0, 0, 0, 1, 1, 0, 1, 1, 0, 1, 0, 1, 0, 1]\n",
      "[0, 0, 0, 0, 0, 1, 0, 0, 0, 0, 0, 0, 0, 0, 0, 1]\n",
      "\n",
      "Precision for class label 3: 1.0\n",
      "[1, 0, 1, 0, 0, 0, 0, 0, 0, 0, 0, 0, 1, 0, 1, 0]\n",
      "[1, 0, 1, 0, 0, 0, 0, 0, 0, 0, 0, 0, 0, 0, 1, 0]\n",
      "Average precision:  0.781\n",
      "Scikit-Learn:       0.781\n"
     ]
    }
   ],
   "source": [
    "# True and predicted class labels\n",
    "true_cl = test_label_batch.numpy()\n",
    "pred_cl = torch.argmax(pred, dim=1).detach().cpu().numpy()\n",
    "# From seeing this, the accuracy should be as shown\n",
    "print(f'True class labels:      {true_cl}')\n",
    "print(f'Predicted class labels: {pred_cl}')\n",
    "\n",
    "# Accuracy\n",
    "from sklearn.metrics import accuracy_score\n",
    "acc = sum(pred_cl == true_cl)/batch_size\n",
    "sk_acc = accuracy_score(y_true=true_cl, y_pred=pred_cl)\n",
    "print(f'The accuracy should be: {acc:.3f}')\n",
    "print(f'Scikit-Learn:           {sk_acc}')\n",
    "\n",
    "# Precision for binary classification\n",
    "# Precision is a metric that quantifies the number of correct predictions\n",
    "# TruePositives / (TruePositives + FalsePositives)\n",
    "prec_list = []\n",
    "for cl in range(num_classes):\n",
    "    true_bin_cl = [1 if label==cl else 0 for label in true_cl]\n",
    "    pred_bin_cl = [1 if label==cl else 0 for label in pred_cl]\n",
    "    true_positives_list = [1 if true_bin_cl[i]==pred_bin_cl[i]==1 else 0 for i in range(batch_size)]\n",
    "    false_positives_list = [1 if (true_bin_cl[i]==0 and pred_bin_cl[i]==1) else 0 for i in range(batch_size)]\n",
    "    true_positives = sum(true_positives_list)\n",
    "    false_positives = sum(false_positives_list)\n",
    "    \n",
    "    # If there are no positive predictions in sample, we cannot calculate precision\n",
    "    if true_positives==false_positives==0:\n",
    "        prec_cl = 0\n",
    "    else:\n",
    "        prec_cl = true_positives / (true_positives + false_positives)\n",
    "    print()\n",
    "    print(f'Precision for class label {cl}: {prec_cl}')\n",
    "    if prec_cl==0:\n",
    "        print(f'WARNING: No positive samples in batch for label {cl}.')\n",
    "    print(true_bin_cl)\n",
    "    print(pred_bin_cl)\n",
    "    prec_list.append(prec_cl)\n",
    "\n",
    "# Calculate average precision across classes\n",
    "print(f'Average precision: {sum(prec_list)/num_classes: .3f}')\n",
    "\n",
    "# Precision from Scikit-Learn library\n",
    "from sklearn.metrics import precision_score\n",
    "sk_prec = precision_score(y_true=true_cl, y_pred=pred_cl, average='macro')\n",
    "print(f'Scikit-Learn:      {sk_prec: .3f}')"
   ]
  },
  {
   "cell_type": "code",
   "execution_count": 15,
   "id": "58728d51-5135-46b8-8cfa-a43954023885",
   "metadata": {},
   "outputs": [
    {
     "name": "stdout",
     "output_type": "stream",
     "text": [
      "Accuracy:  0.1875\n",
      "Precision: 0.268\n",
      "Recall:    0.375\n",
      "F1:        0.200\n",
      "AUC:       0.698\n"
     ]
    }
   ],
   "source": [
    "# Show the calculations from Scikit-Learn\n",
    "print(f'Accuracy:  {sk_acc}')\n",
    "print(f'Precision:{sk_prec: .3f}')\n",
    "# Recall\n",
    "from sklearn.metrics import recall_score\n",
    "sk_rec = recall_score(y_true=true_cl, y_pred=pred_cl, average='macro')\n",
    "print(f'Recall:   {sk_rec: .3f}')\n",
    "\n",
    "# F1 score\n",
    "from sklearn.metrics import f1_score\n",
    "sk_f1 = f1_score(y_true=true_cl, y_pred=pred_cl, average='macro')\n",
    "print(f'F1:       {sk_f1: .3f}')\n",
    "\n",
    "# AUC score\n",
    "from sklearn.metrics import roc_auc_score\n",
    "# For this, we need probability estimates for each class\n",
    "sm = nn.Softmax(dim=1)\n",
    "pred_cl_score = sm(pred).detach().cpu().numpy()\n",
    "sk_auc = roc_auc_score(y_true=true_cl, y_score=pred_cl_score, average='macro', multi_class='ovr')\n",
    "print(f'AUC:      {sk_auc: .3f}')"
   ]
  },
  {
   "cell_type": "markdown",
   "id": "ade4b7cd-a405-41e5-b5ee-6bd61820f85f",
   "metadata": {},
   "source": [
    "### Performance metrics: torchmetrics.classification library ###"
   ]
  },
  {
   "cell_type": "code",
   "execution_count": 16,
   "id": "7249fe99-4e54-45a6-af42-4cb37fcebaaf",
   "metadata": {},
   "outputs": [
    {
     "data": {
      "text/plain": [
       "tensor([3, 0, 3, 0, 0, 2, 2, 1, 2, 2, 0, 2, 3, 2, 3, 2], device='cuda:0')"
      ]
     },
     "metadata": {},
     "output_type": "display_data"
    },
    {
     "data": {
      "text/plain": [
       "tensor([1, 0, 1, 0, 1, 1, 1, 1, 1, 1, 1, 1, 1, 1, 1, 1], device='cuda:0')"
      ]
     },
     "metadata": {},
     "output_type": "display_data"
    },
    {
     "name": "stdout",
     "output_type": "stream",
     "text": [
      "\n",
      "Accuracy:  0.1875\n",
      "Precision: 0.268\n",
      "Recall:    0.375\n",
      "F1:        0.200\n",
      "AUC:       0.698\n"
     ]
    }
   ],
   "source": [
    "true_cl = test_label_batch.to(device)\n",
    "display(true_cl)\n",
    "# Probability estimates for each class\n",
    "sm = nn.Softmax(dim=1)\n",
    "pred_cl_score = sm(pred)\n",
    "pred_cl = torch.argmax(pred_cl_score, dim=1)\n",
    "display(pred_cl)\n",
    "print()\n",
    "\n",
    "# Accuracy\n",
    "from torchmetrics.classification import MulticlassAccuracy\n",
    "acc = MulticlassAccuracy(num_classes=4, average='micro').to(device)\n",
    "tm_acc = acc(preds=pred_cl_score, target=true_cl)\n",
    "print(f'Accuracy:  {tm_acc}')\n",
    "\n",
    "# Precision\n",
    "from torchmetrics.classification import MulticlassPrecision\n",
    "prec = MulticlassPrecision(num_classes=4, average='macro').to(device)\n",
    "tm_prec = prec(preds=pred_cl_score, target=true_cl)\n",
    "print(f'Precision:{tm_prec: .3f}')\n",
    "\n",
    "# Recall\n",
    "from torchmetrics.classification import MulticlassRecall\n",
    "rec = MulticlassRecall(num_classes=4, average='macro').to(device)\n",
    "tm_rec = rec(preds=pred_cl_score, target=true_cl)\n",
    "print(f'Recall:   {tm_rec: .3f}')  \n",
    "\n",
    "# F1\n",
    "from torchmetrics.classification import MulticlassF1Score\n",
    "f1 = MulticlassF1Score(num_classes=4, average='macro').to(device)\n",
    "tm_f1 = f1(preds=pred_cl_score, target=true_cl)\n",
    "print(f'F1:       {tm_f1: .3f}')\n",
    "\n",
    "# AUC\n",
    "from torchmetrics.classification import MulticlassAUROC\n",
    "auc = MulticlassAUROC(num_classes=4, average='macro').to(device)\n",
    "tm_auc = auc(preds=pred_cl_score, target=true_cl)\n",
    "print(f'AUC:      {tm_auc: .3f}')"
   ]
  },
  {
   "cell_type": "code",
   "execution_count": 17,
   "id": "5f136f48-dd6e-4dda-9742-879b76baeab8",
   "metadata": {},
   "outputs": [
    {
     "data": {
      "text/plain": [
       "[{'train_acc': tensor(0.1875, device='cuda:0'),\n",
       "  'train_prec': tensor(0.2679, device='cuda:0')},\n",
       " {'train_acc': tensor(0.2875, device='cuda:0'),\n",
       "  'train_prec': tensor(0.3679, device='cuda:0')}]"
      ]
     },
     "metadata": {},
     "output_type": "display_data"
    }
   ],
   "source": [
    "test_dict = nn.ModuleDict()\n",
    "\n",
    "metric_dict = nn.ModuleDict({'acc': MulticlassAccuracy(num_classes=4, average='micro').to(device),\n",
    "                             'prec': MulticlassPrecision(num_classes=4, average='macro').to(device)})\n",
    "\n",
    "metric_prefix = 'train'\n",
    "preds = sm(pred)\n",
    "target = true_cl\n",
    "\n",
    "performance_dict_1 = {}\n",
    "for metric_name, metric in metric_dict.items():\n",
    "    performance_dict_1.update({f'{metric_prefix}_{metric_name}': metric(preds=preds, target=target)})\n",
    "\n",
    "performance_dict_2 = {}\n",
    "for metric_name, metric in metric_dict.items():\n",
    "    performance_dict_2.update({f'{metric_prefix}_{metric_name}': metric(preds=preds, target=target)+0.1})\n",
    "\n",
    "performance_list = [performance_dict_1, performance_dict_2]\n",
    "display(performance_list)"
   ]
  },
  {
   "cell_type": "code",
   "execution_count": 18,
   "id": "b3ed2a6c-07e0-4caa-aa5d-b7544a7e4922",
   "metadata": {},
   "outputs": [
    {
     "name": "stdout",
     "output_type": "stream",
     "text": [
      "['train_acc', 'train_prec']\n",
      "train_acc\n",
      "{'train_acc': 0.24, 'train_prec': 0.32}\n"
     ]
    }
   ],
   "source": [
    "# Now, we have to average the tensors in the dictionaries\n",
    "key_list = list(performance_list[0].keys())\n",
    "print(key_list)\n",
    "key = key_list[0]\n",
    "print(key)\n",
    "\n",
    "epoch_performance_dict = {}\n",
    "for metric_name in key_list:\n",
    "    m = torch.stack([x.get(metric_name) for x in performance_list])\n",
    "    n = m.mean().detach().cpu().numpy().round(2)\n",
    "    epoch_performance_dict.update({metric_name: n})\n",
    "\n",
    "print(epoch_performance_dict)"
   ]
  }
 ],
 "metadata": {
  "kernelspec": {
   "display_name": "Python 3 (ipykernel)",
   "language": "python",
   "name": "python3"
  },
  "language_info": {
   "codemirror_mode": {
    "name": "ipython",
    "version": 3
   },
   "file_extension": ".py",
   "mimetype": "text/x-python",
   "name": "python",
   "nbconvert_exporter": "python",
   "pygments_lexer": "ipython3",
   "version": "3.10.12"
  }
 },
 "nbformat": 4,
 "nbformat_minor": 5
}
