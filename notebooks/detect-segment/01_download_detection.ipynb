{
 "cells": [
  {
   "cell_type": "markdown",
   "id": "61ff9646-61e2-42ce-886a-dd6c96502ae7",
   "metadata": {},
   "source": [
    "## Dataset download for object detection ##"
   ]
  },
  {
   "cell_type": "code",
   "execution_count": 1,
   "id": "bb57617b-7421-4c01-923d-697c1cca1340",
   "metadata": {},
   "outputs": [
    {
     "data": {
      "text/html": [
       "<style>.container { width:100% !important; }</style>"
      ],
      "text/plain": [
       "<IPython.core.display.HTML object>"
      ]
     },
     "metadata": {},
     "output_type": "display_data"
    },
    {
     "name": "stdout",
     "output_type": "stream",
     "text": [
      "Project module version: 0.0.post1.dev163+g9fa083d.d20240224\n"
     ]
    }
   ],
   "source": [
    "# Imports\n",
    "import os\n",
    "import numpy as np\n",
    "import pandas as pd\n",
    "import tarfile\n",
    "import random\n",
    "import time\n",
    "import glob\n",
    "import json\n",
    "from pathlib import Path\n",
    "from dotenv import load_dotenv\n",
    "\n",
    "# Matplotlib for plotting\n",
    "from matplotlib import pyplot as plt\n",
    "from matplotlib.pyplot import cm\n",
    "from matplotlib import patches\n",
    "\n",
    "# Appearance of the Notebook\n",
    "from IPython.display import display, HTML\n",
    "display(HTML(\"<style>.container { width:100% !important; }</style>\"))\n",
    "np.set_printoptions(linewidth=110)\n",
    "pd.set_option('display.max_rows', 500)\n",
    "pd.set_option('display.max_columns', 100)\n",
    "pd.set_option('display.width', 1000)\n",
    "\n",
    "# Import this module with autoreload\n",
    "%load_ext autoreload\n",
    "%autoreload 2\n",
    "import dentexmodel as dm\n",
    "from dentexmodel.dentexdata import DentexData\n",
    "from dentexmodel.fileutils import FileOP\n",
    "from dentexmodel.imageproc import ImageData\n",
    "\n",
    "print(f'Project module version: {dm.__version__}')"
   ]
  },
  {
   "cell_type": "markdown",
   "id": "bb4ee4cc-4ca7-48da-93ed-3ec66fc7bc03",
   "metadata": {},
   "source": [
    "### Download the object detection data set ###\n",
    "Full data set: https://zenodo.org/records/7812323/files/training_data.zip?download=1\n",
    "\n",
    "Object detection images: https://dsets.s3.amazonaws.com/dentex/dentex-quadrant-enumeration.tar.gz\n"
   ]
  },
  {
   "cell_type": "code",
   "execution_count": 2,
   "id": "83be0f55-be57-49c7-82fb-eda518a0d5d5",
   "metadata": {},
   "outputs": [],
   "source": [
    "# Path settings \n",
    "# Main data directory (defined as environment variable in docker-compose.yml)\n",
    "data_root = os.environ.get('DATA_ROOT')\n",
    "\n",
    "# Download directory (change as needed)\n",
    "dentex_dir = os.path.join(data_root, 'dentex')\n",
    "model_dir = os.path.join(data_root, 'model')\n",
    "data_dir = os.path.join(dentex_dir, 'dentex_detection')\n",
    "Path(data_dir).mkdir(parents=True, exist_ok=True)\n",
    "Path(model_dir).mkdir(parents=True, exist_ok=True)\n",
    "\n",
    "# This image directory is where the xrays are in the archive, so should be left as-is\n",
    "image_dir = os.path.join(data_dir, 'quadrant_enumeration', 'xrays')\n",
    "\n",
    "# Directory for the output\n",
    "output_dir = os.path.join(data_dir, 'output')\n",
    "Path(output_dir).mkdir(parents=True, exist_ok=True)"
   ]
  },
  {
   "cell_type": "code",
   "execution_count": 3,
   "id": "c68c0b43-bdd3-4dd9-8858-e30008b1223e",
   "metadata": {},
   "outputs": [
    {
     "name": "stdout",
     "output_type": "stream",
     "text": [
      "Downloading 1.72 GB from:\n",
      "https://dsets.s3.amazonaws.com/dentex/dentex-quadrant-enumeration.tar.gz\n"
     ]
    },
    {
     "name": "stderr",
     "output_type": "stream",
     "text": [
      "dentex-quadrant-enumeration.tar.gz: 1.72GB [00:53, 31.9MB/s]                              \n"
     ]
    },
    {
     "name": "stdout",
     "output_type": "stream",
     "text": [
      "Extracting from .gz archive.\n",
      "Extracted 634 images.\n"
     ]
    }
   ],
   "source": [
    "# Create an instance of the DentexData class\n",
    "dtx = DentexData(data_dir=data_dir)\n",
    "url = dtx.detection_url\n",
    "sz = FileOP().file_size_from_url(url)\n",
    "sz_GB = sz/1.0e9\n",
    "\n",
    "# Download and extract the data\n",
    "print(f'Downloading {sz_GB:.2f} GB from:\\n{url}')\n",
    "data_tar_file = dtx.download_image_data(url=url)\n",
    "\n",
    "# Check the images on disk\n",
    "file_list = glob.glob(os.path.join(image_dir, '*.png'))\n",
    "expected_n_images = 634\n",
    "if not len(file_list) == expected_n_images:\n",
    "    print(f'WARNING: expected number of images ({expected_n_images}) does not match the number of images on disk.')\n",
    "    print(f'Delete files and start over.')\n",
    "else:\n",
    "    print(f'Extracted {len(file_list)} images.')"
   ]
  },
  {
   "cell_type": "code",
   "execution_count": 4,
   "id": "08db66a9-b7dc-4fab-a011-7fe236e30847",
   "metadata": {},
   "outputs": [
    {
     "data": {
      "text/html": [
       "<div>\n",
       "<style scoped>\n",
       "    .dataframe tbody tr th:only-of-type {\n",
       "        vertical-align: middle;\n",
       "    }\n",
       "\n",
       "    .dataframe tbody tr th {\n",
       "        vertical-align: top;\n",
       "    }\n",
       "\n",
       "    .dataframe thead th {\n",
       "        text-align: right;\n",
       "    }\n",
       "</style>\n",
       "<table border=\"1\" class=\"dataframe\">\n",
       "  <thead>\n",
       "    <tr style=\"text-align: right;\">\n",
       "      <th></th>\n",
       "      <th>image_number</th>\n",
       "      <th>file_name</th>\n",
       "      <th>file_path</th>\n",
       "    </tr>\n",
       "  </thead>\n",
       "  <tbody>\n",
       "    <tr>\n",
       "      <th>0</th>\n",
       "      <td>0</td>\n",
       "      <td>train_0.png</td>\n",
       "      <td>/app/data/dentex/dentex_detection/quadrant_enu...</td>\n",
       "    </tr>\n",
       "    <tr>\n",
       "      <th>1</th>\n",
       "      <td>1</td>\n",
       "      <td>train_1.png</td>\n",
       "      <td>/app/data/dentex/dentex_detection/quadrant_enu...</td>\n",
       "    </tr>\n",
       "    <tr>\n",
       "      <th>2</th>\n",
       "      <td>2</td>\n",
       "      <td>train_2.png</td>\n",
       "      <td>/app/data/dentex/dentex_detection/quadrant_enu...</td>\n",
       "    </tr>\n",
       "    <tr>\n",
       "      <th>3</th>\n",
       "      <td>3</td>\n",
       "      <td>train_3.png</td>\n",
       "      <td>/app/data/dentex/dentex_detection/quadrant_enu...</td>\n",
       "    </tr>\n",
       "    <tr>\n",
       "      <th>4</th>\n",
       "      <td>4</td>\n",
       "      <td>train_4.png</td>\n",
       "      <td>/app/data/dentex/dentex_detection/quadrant_enu...</td>\n",
       "    </tr>\n",
       "  </tbody>\n",
       "</table>\n",
       "</div>"
      ],
      "text/plain": [
       "   image_number    file_name                                          file_path\n",
       "0             0  train_0.png  /app/data/dentex/dentex_detection/quadrant_enu...\n",
       "1             1  train_1.png  /app/data/dentex/dentex_detection/quadrant_enu...\n",
       "2             2  train_2.png  /app/data/dentex/dentex_detection/quadrant_enu...\n",
       "3             3  train_3.png  /app/data/dentex/dentex_detection/quadrant_enu...\n",
       "4             4  train_4.png  /app/data/dentex/dentex_detection/quadrant_enu..."
      ]
     },
     "metadata": {},
     "output_type": "display_data"
    }
   ],
   "source": [
    "# Create a data frame with the image file paths\n",
    "file_name_list = [os.path.basename(file) for file in file_list]\n",
    "im_number_list = [int(os.path.splitext(file)[0].rsplit('_', maxsplit=1)[-1]) for file in file_name_list]\n",
    "files = pd.DataFrame({'image_number': im_number_list,\n",
    "                      'file_name': file_name_list,\n",
    "                      'file_path': file_list}).\\\n",
    "                sort_values(by='image_number', ascending=True).reset_index(drop=True)\n",
    "\n",
    "display(files.head())"
   ]
  },
  {
   "cell_type": "code",
   "execution_count": 5,
   "id": "a692f1c6-2750-4c4f-9f73-27e847b40b70",
   "metadata": {},
   "outputs": [
    {
     "name": "stdout",
     "output_type": "stream",
     "text": [
      "Loaded annotations from file:\n",
      "/app/data/dentex/dentex_detection/quadrant_enumeration/train_quadrant_enumeration.json\n",
      "dict_keys(['images', 'annotations', 'categories_1', 'categories_2'])\n"
     ]
    }
   ],
   "source": [
    "# Load the annotation file\n",
    "annotation_file = os.path.join(data_dir, \n",
    "                               'quadrant_enumeration', \n",
    "                               'train_quadrant_enumeration.json')\n",
    "annotations = dtx.load_annotations(annotation_file)\n",
    "print(f'Loaded annotations from file:\\n{dtx.annotations_file}\\n{annotations.keys()}')"
   ]
  },
  {
   "cell_type": "code",
   "execution_count": 6,
   "id": "bdef705f-ed8f-4f9d-98aa-cfdd45280677",
   "metadata": {},
   "outputs": [
    {
     "data": {
      "text/html": [
       "<div>\n",
       "<style scoped>\n",
       "    .dataframe tbody tr th:only-of-type {\n",
       "        vertical-align: middle;\n",
       "    }\n",
       "\n",
       "    .dataframe tbody tr th {\n",
       "        vertical-align: top;\n",
       "    }\n",
       "\n",
       "    .dataframe thead th {\n",
       "        text-align: right;\n",
       "    }\n",
       "</style>\n",
       "<table border=\"1\" class=\"dataframe\">\n",
       "  <thead>\n",
       "    <tr style=\"text-align: right;\">\n",
       "      <th></th>\n",
       "      <th>image_id</th>\n",
       "      <th>file_name</th>\n",
       "      <th>image_number</th>\n",
       "      <th>file_path</th>\n",
       "    </tr>\n",
       "  </thead>\n",
       "  <tbody>\n",
       "    <tr>\n",
       "      <th>0</th>\n",
       "      <td>1</td>\n",
       "      <td>train_283.png</td>\n",
       "      <td>283</td>\n",
       "      <td>/app/data/dentex/dentex_detection/quadrant_enu...</td>\n",
       "    </tr>\n",
       "    <tr>\n",
       "      <th>1</th>\n",
       "      <td>2</td>\n",
       "      <td>train_435.png</td>\n",
       "      <td>435</td>\n",
       "      <td>/app/data/dentex/dentex_detection/quadrant_enu...</td>\n",
       "    </tr>\n",
       "    <tr>\n",
       "      <th>2</th>\n",
       "      <td>3</td>\n",
       "      <td>train_95.png</td>\n",
       "      <td>95</td>\n",
       "      <td>/app/data/dentex/dentex_detection/quadrant_enu...</td>\n",
       "    </tr>\n",
       "    <tr>\n",
       "      <th>3</th>\n",
       "      <td>4</td>\n",
       "      <td>train_475.png</td>\n",
       "      <td>475</td>\n",
       "      <td>/app/data/dentex/dentex_detection/quadrant_enu...</td>\n",
       "    </tr>\n",
       "    <tr>\n",
       "      <th>4</th>\n",
       "      <td>5</td>\n",
       "      <td>train_62.png</td>\n",
       "      <td>62</td>\n",
       "      <td>/app/data/dentex/dentex_detection/quadrant_enu...</td>\n",
       "    </tr>\n",
       "  </tbody>\n",
       "</table>\n",
       "</div>"
      ],
      "text/plain": [
       "   image_id      file_name  image_number                                          file_path\n",
       "0         1  train_283.png           283  /app/data/dentex/dentex_detection/quadrant_enu...\n",
       "1         2  train_435.png           435  /app/data/dentex/dentex_detection/quadrant_enu...\n",
       "2         3   train_95.png            95  /app/data/dentex/dentex_detection/quadrant_enu...\n",
       "3         4  train_475.png           475  /app/data/dentex/dentex_detection/quadrant_enu...\n",
       "4         5   train_62.png            62  /app/data/dentex/dentex_detection/quadrant_enu..."
      ]
     },
     "metadata": {},
     "output_type": "display_data"
    },
    {
     "name": "stdout",
     "output_type": "stream",
     "text": [
      "(634, 4)\n"
     ]
    }
   ],
   "source": [
    "# Add image ids to the files data frame\n",
    "js_im_df = pd.DataFrame(annotations.get('images')).\\\n",
    "                merge(files, on='file_name', how='inner').\\\n",
    "                sort_values(by='id', ascending=True).\\\n",
    "                reset_index(drop=True).\\\n",
    "                rename(columns={'id': 'image_id'}).\\\n",
    "                drop(['height', 'width'], axis=1)\n",
    "display(js_im_df.head())\n",
    "print(js_im_df.shape)"
   ]
  },
  {
   "cell_type": "code",
   "execution_count": 7,
   "id": "ae348cf2-1b2d-4c9c-9313-e8ddbc1e0a63",
   "metadata": {},
   "outputs": [
    {
     "data": {
      "text/plain": [
       "dict_keys(['images', 'annotations', 'categories_1', 'categories_2'])"
      ]
     },
     "metadata": {},
     "output_type": "display_data"
    },
    {
     "name": "stdout",
     "output_type": "stream",
     "text": [
      "\n"
     ]
    },
    {
     "data": {
      "text/plain": [
       "{'categories_1': {0: 1, 1: 2, 2: 3, 3: 4},\n",
       " 'categories_2': {0: '1',\n",
       "  1: '2',\n",
       "  2: '3',\n",
       "  3: '4',\n",
       "  4: '5',\n",
       "  5: '6',\n",
       "  6: '7',\n",
       "  7: '8'}}"
      ]
     },
     "metadata": {},
     "output_type": "display_data"
    }
   ],
   "source": [
    "# Create a dictionary of categories with IDs and names\n",
    "# The categories are described in a dictionary at the top of the JSON file\n",
    "display(dtx.annotations.keys())\n",
    "print()\n",
    "# We can create one dictionary with the labels for each annotation\n",
    "# Annotations are quadrant (categories_1) and tooth position (categories_2).\n",
    "categories = dtx.create_category_dict(categories=range(1, 3))\n",
    "display(categories)"
   ]
  },
  {
   "cell_type": "code",
   "execution_count": 8,
   "id": "13aa281c-ab92-4942-b6b8-2eb653ff02d5",
   "metadata": {},
   "outputs": [
    {
     "name": "stdout",
     "output_type": "stream",
     "text": [
      "Annotation data frame saved: /app/data/dentex/dentex_detection/dentex_detection_dataset.parquet\n"
     ]
    }
   ],
   "source": [
    "# Save the data frame with the file paths and annotations\n",
    "df_file_name = 'dentex_detection_dataset.parquet'\n",
    "df_file = os.path.join(data_dir, df_file_name)\n",
    "js_im_df.to_parquet(df_file)\n",
    "print(f'Annotation data frame saved: {df_file}')"
   ]
  }
 ],
 "metadata": {
  "kernelspec": {
   "display_name": "Python 3 (ipykernel)",
   "language": "python",
   "name": "python3"
  },
  "language_info": {
   "codemirror_mode": {
    "name": "ipython",
    "version": 3
   },
   "file_extension": ".py",
   "mimetype": "text/x-python",
   "name": "python",
   "nbconvert_exporter": "python",
   "pygments_lexer": "ipython3",
   "version": "3.10.12"
  }
 },
 "nbformat": 4,
 "nbformat_minor": 5
}
