{
 "cells": [
  {
   "cell_type": "markdown",
   "id": "ebc52caa-e5ff-42ad-9bb6-84891f453249",
   "metadata": {},
   "source": [
    "## Split data into training, validation and test sets ##"
   ]
  },
  {
   "cell_type": "code",
   "execution_count": 1,
   "id": "146bbe69-a3c4-430d-a5f8-74fa54188d44",
   "metadata": {},
   "outputs": [
    {
     "data": {
      "text/html": [
       "<style>.container { width:100% !important; }</style>"
      ],
      "text/plain": [
       "<IPython.core.display.HTML object>"
      ]
     },
     "metadata": {},
     "output_type": "display_data"
    },
    {
     "name": "stdout",
     "output_type": "stream",
     "text": [
      "Project module version: 0.0.post1.dev163+g9fa083d.d20240224\n"
     ]
    }
   ],
   "source": [
    "# Imports\n",
    "import os\n",
    "import numpy as np\n",
    "import pandas as pd\n",
    "\n",
    "# Matplotlib for plotting\n",
    "from matplotlib import pyplot as plt\n",
    "from matplotlib.pyplot import cm\n",
    "from matplotlib import patches\n",
    "\n",
    "# Appearance of the Notebook\n",
    "from IPython.display import display, HTML\n",
    "display(HTML(\"<style>.container { width:100% !important; }</style>\"))\n",
    "np.set_printoptions(linewidth=110)\n",
    "pd.set_option('display.max_rows', 500)\n",
    "pd.set_option('display.max_columns', 100)\n",
    "pd.set_option('display.width', 1000)\n",
    "\n",
    "# Import this module with autoreload\n",
    "%load_ext autoreload\n",
    "%autoreload 2\n",
    "import dentexmodel as dm\n",
    "from dentexmodel.fileutils import FileOP\n",
    "from dentexmodel.imageproc import ImageData\n",
    "from dentexmodel.dentexdata import DentexData, val_test_split\n",
    "\n",
    "print(f'Project module version: {dm.__version__}')"
   ]
  },
  {
   "cell_type": "code",
   "execution_count": 2,
   "id": "fb742ac6-b8be-4342-97cc-b91acf1e3805",
   "metadata": {},
   "outputs": [],
   "source": [
    "# Path settings \n",
    "# Main data directory (defined as environment variable in docker-compose.yml)\n",
    "data_root = os.environ.get('DATA_ROOT')\n",
    "\n",
    "# Download directory (change as needed)\n",
    "dentex_dir = os.path.join(data_root, 'dentex')\n",
    "model_dir = os.path.join(data_root, 'model')\n",
    "data_dir = os.path.join(dentex_dir, 'dentex_detection')\n",
    "\n",
    "# This image directory is where the xrays are in the archive, so should be left as-is\n",
    "image_dir = os.path.join(data_dir, 'quadrant_enumeration', 'xrays')\n",
    "\n",
    "# Directory for the output\n",
    "output_dir = os.path.join(data_dir, 'output')\n",
    "\n",
    "# Data frame with images and paths\n",
    "data_df_file_name = 'dentex_detection_dataset.parquet'\n",
    "data_df_file = os.path.join(data_dir, data_df_file_name)"
   ]
  },
  {
   "cell_type": "code",
   "execution_count": 3,
   "id": "28010766-ddfb-42d6-9c75-4010a2d9a52f",
   "metadata": {},
   "outputs": [
    {
     "data": {
      "text/html": [
       "<div>\n",
       "<style scoped>\n",
       "    .dataframe tbody tr th:only-of-type {\n",
       "        vertical-align: middle;\n",
       "    }\n",
       "\n",
       "    .dataframe tbody tr th {\n",
       "        vertical-align: top;\n",
       "    }\n",
       "\n",
       "    .dataframe thead th {\n",
       "        text-align: right;\n",
       "    }\n",
       "</style>\n",
       "<table border=\"1\" class=\"dataframe\">\n",
       "  <thead>\n",
       "    <tr style=\"text-align: right;\">\n",
       "      <th></th>\n",
       "      <th>image_id</th>\n",
       "      <th>file_name</th>\n",
       "      <th>image_number</th>\n",
       "      <th>file_path</th>\n",
       "    </tr>\n",
       "  </thead>\n",
       "  <tbody>\n",
       "    <tr>\n",
       "      <th>0</th>\n",
       "      <td>1</td>\n",
       "      <td>train_283.png</td>\n",
       "      <td>283</td>\n",
       "      <td>/app/data/dentex/dentex_detection/quadrant_enu...</td>\n",
       "    </tr>\n",
       "    <tr>\n",
       "      <th>1</th>\n",
       "      <td>2</td>\n",
       "      <td>train_435.png</td>\n",
       "      <td>435</td>\n",
       "      <td>/app/data/dentex/dentex_detection/quadrant_enu...</td>\n",
       "    </tr>\n",
       "  </tbody>\n",
       "</table>\n",
       "</div>"
      ],
      "text/plain": [
       "   image_id      file_name  image_number                                          file_path\n",
       "0         1  train_283.png           283  /app/data/dentex/dentex_detection/quadrant_enu...\n",
       "1         2  train_435.png           435  /app/data/dentex/dentex_detection/quadrant_enu..."
      ]
     },
     "metadata": {},
     "output_type": "display_data"
    }
   ],
   "source": [
    "# Load the data frame with image paths and bounding boxes\n",
    "data_df = pd.read_parquet(data_df_file)\n",
    "display(data_df.head(2))\n",
    "# Create an instance of the DentexData class\n",
    "dtx = DentexData(data_dir=data_dir)"
   ]
  },
  {
   "cell_type": "code",
   "execution_count": 4,
   "id": "5f4ba3b6-6ee3-4297-a7db-0087ef80e8eb",
   "metadata": {},
   "outputs": [],
   "source": [
    "# Function to create the data splits\n",
    "label_col = 'label'\n",
    "dset_df = val_test_split(data=data_df, \n",
    "                         n_test_per_class=50,\n",
    "                         n_val_per_class=50)"
   ]
  },
  {
   "cell_type": "code",
   "execution_count": 5,
   "id": "25ea8b19-44a0-4f6b-934b-0ada81ce02ff",
   "metadata": {},
   "outputs": [
    {
     "name": "stdout",
     "output_type": "stream",
     "text": [
      "We have 534 images in the train set.\n",
      "We have 50 images in the validation set.\n",
      "We have 50 images in the test set.\n",
      "set()\n",
      "set()\n",
      "set()\n"
     ]
    }
   ],
   "source": [
    "train_set = set(dset_df.loc[dset_df['dataset'] == 'train', 'file_name'].values)\n",
    "print(f'We have {len(train_set)} images in the train set.')\n",
    "\n",
    "val_set = set(dset_df.loc[dset_df['dataset'] == 'val', 'file_name'].values)\n",
    "print(f'We have {len(val_set)} images in the validation set.')\n",
    "\n",
    "test_set = set(dset_df.loc[dset_df['dataset'] == 'test', 'file_name'].values)\n",
    "print(f'We have {len(test_set)} images in the test set.')\n",
    "\n",
    "# Make sure that these data sets are distinct\n",
    "print(train_set.intersection(val_set))\n",
    "print(train_set.intersection(test_set))\n",
    "print(val_set.intersection(test_set))"
   ]
  },
  {
   "cell_type": "code",
   "execution_count": 6,
   "id": "a04562a4-277d-47d2-9b3a-2ec854f51059",
   "metadata": {},
   "outputs": [
    {
     "name": "stdout",
     "output_type": "stream",
     "text": [
      "/app/data/dentex/dentex_detection/dentex_detection_datasplit.parquet\n"
     ]
    },
    {
     "data": {
      "text/html": [
       "<div>\n",
       "<style scoped>\n",
       "    .dataframe tbody tr th:only-of-type {\n",
       "        vertical-align: middle;\n",
       "    }\n",
       "\n",
       "    .dataframe tbody tr th {\n",
       "        vertical-align: top;\n",
       "    }\n",
       "\n",
       "    .dataframe thead th {\n",
       "        text-align: right;\n",
       "    }\n",
       "</style>\n",
       "<table border=\"1\" class=\"dataframe\">\n",
       "  <thead>\n",
       "    <tr style=\"text-align: right;\">\n",
       "      <th></th>\n",
       "      <th>image_id</th>\n",
       "      <th>file_name</th>\n",
       "      <th>image_number</th>\n",
       "      <th>file_path</th>\n",
       "      <th>dataset</th>\n",
       "    </tr>\n",
       "  </thead>\n",
       "  <tbody>\n",
       "    <tr>\n",
       "      <th>0</th>\n",
       "      <td>327</td>\n",
       "      <td>train_612.png</td>\n",
       "      <td>612</td>\n",
       "      <td>/app/data/dentex/dentex_detection/quadrant_enu...</td>\n",
       "      <td>train</td>\n",
       "    </tr>\n",
       "    <tr>\n",
       "      <th>1</th>\n",
       "      <td>543</td>\n",
       "      <td>train_163.png</td>\n",
       "      <td>163</td>\n",
       "      <td>/app/data/dentex/dentex_detection/quadrant_enu...</td>\n",
       "      <td>train</td>\n",
       "    </tr>\n",
       "    <tr>\n",
       "      <th>2</th>\n",
       "      <td>152</td>\n",
       "      <td>train_243.png</td>\n",
       "      <td>243</td>\n",
       "      <td>/app/data/dentex/dentex_detection/quadrant_enu...</td>\n",
       "      <td>train</td>\n",
       "    </tr>\n",
       "    <tr>\n",
       "      <th>3</th>\n",
       "      <td>135</td>\n",
       "      <td>train_436.png</td>\n",
       "      <td>436</td>\n",
       "      <td>/app/data/dentex/dentex_detection/quadrant_enu...</td>\n",
       "      <td>train</td>\n",
       "    </tr>\n",
       "    <tr>\n",
       "      <th>4</th>\n",
       "      <td>309</td>\n",
       "      <td>train_483.png</td>\n",
       "      <td>483</td>\n",
       "      <td>/app/data/dentex/dentex_detection/quadrant_enu...</td>\n",
       "      <td>train</td>\n",
       "    </tr>\n",
       "  </tbody>\n",
       "</table>\n",
       "</div>"
      ],
      "text/plain": [
       "   image_id      file_name  image_number                                          file_path dataset\n",
       "0       327  train_612.png           612  /app/data/dentex/dentex_detection/quadrant_enu...   train\n",
       "1       543  train_163.png           163  /app/data/dentex/dentex_detection/quadrant_enu...   train\n",
       "2       152  train_243.png           243  /app/data/dentex/dentex_detection/quadrant_enu...   train\n",
       "3       135  train_436.png           436  /app/data/dentex/dentex_detection/quadrant_enu...   train\n",
       "4       309  train_483.png           483  /app/data/dentex/dentex_detection/quadrant_enu...   train"
      ]
     },
     "metadata": {},
     "output_type": "display_data"
    }
   ],
   "source": [
    "# Save the data split\n",
    "datasplit_file_name = 'dentex_detection_datasplit.parquet'\n",
    "datasplit_file = os.path.join(data_dir, datasplit_file_name)\n",
    "dset_df.to_parquet(datasplit_file)\n",
    "print(datasplit_file)\n",
    "display(dset_df.head())"
   ]
  }
 ],
 "metadata": {
  "kernelspec": {
   "display_name": "Python 3 (ipykernel)",
   "language": "python",
   "name": "python3"
  },
  "language_info": {
   "codemirror_mode": {
    "name": "ipython",
    "version": 3
   },
   "file_extension": ".py",
   "mimetype": "text/x-python",
   "name": "python",
   "nbconvert_exporter": "python",
   "pygments_lexer": "ipython3",
   "version": "3.10.12"
  }
 },
 "nbformat": 4,
 "nbformat_minor": 5
}
