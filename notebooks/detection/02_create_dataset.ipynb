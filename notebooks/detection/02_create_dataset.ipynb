{
 "cells": [
  {
   "cell_type": "markdown",
   "id": "ff8c39c0-1d98-464c-b997-f1fb07830510",
   "metadata": {},
   "source": [
    "## How to train RT-DETR on dental radiographs ##"
   ]
  },
  {
   "cell_type": "markdown",
   "id": "039d484c-9b41-4355-9658-24e4e18b4af7",
   "metadata": {},
   "source": [
    "### Create object detection data set from panoramic radiographs ###\n",
    "The goal is to train a RT-DETR model to detect teetch with their positions on dental radiographs.\n",
    "We will crop the large panoramic x-rays into smaller images to create our object detection data set.\n",
    "There are two reasons why we are doing this:\n",
    "1. Provide smaller high-resolution images to the detection model for the fixed input size of 64 x 640 pixels \n",
    "2. Use the model for predicting tooth positions on smaller periapical or bitewing x-rays"
   ]
  },
  {
   "cell_type": "markdown",
   "id": "5344be57-c4d4-401d-ac84-aa694371fad9",
   "metadata": {},
   "source": [
    "### Imports ###"
   ]
  },
  {
   "cell_type": "code",
   "execution_count": 11,
   "id": "0d25c715-7482-4a83-b50d-8bea1cd81440",
   "metadata": {},
   "outputs": [
    {
     "name": "stdout",
     "output_type": "stream",
     "text": [
      "The autoreload extension is already loaded. To reload it, use:\n",
      "  %reload_ext autoreload\n",
      "Computervision package version 0.0.0\n"
     ]
    }
   ],
   "source": [
    "import os\n",
    "import glob\n",
    "import numpy as np\n",
    "import pandas as pd\n",
    "from pathlib import Path\n",
    "from matplotlib import pyplot as plt\n",
    "from matplotlib import patches\n",
    "\n",
    "# Imports from this package\n",
    "# If you get an error, install the package in your python environment\n",
    "# Do not forget to activate the environmen before running this command\n",
    "# python -m pip install -e .\n",
    "\n",
    "%load_ext autoreload\n",
    "%autoreload 2\n",
    "import computervision\n",
    "from computervision.dentexdata import DentexData\n",
    "from computervision.imageproc import ImageData\n",
    "\n",
    "# Print package version\n",
    "print(f'Computervision package version {computervision.__version__}')"
   ]
  },
  {
   "cell_type": "code",
   "execution_count": 12,
   "id": "c0669261-500e-4154-8c01-6b9d6e1fb997",
   "metadata": {},
   "outputs": [],
   "source": [
    "# Data directory (modify for local storage)\n",
    "# This will be inside the root of the repository\n",
    "data_dir = os.path.join(os.environ.get('HOME'), 'data')\n",
    "\n",
    "# Directory to store the data set\n",
    "dataset_dir = os.path.join(data_dir, 'dentex_detection')\n",
    "image_dir = os.path.join(dataset_dir, 'quadrant_enumeration', 'xrays')\n",
    "\n",
    "# Create an output directory to store examples and results\n",
    "output_dir = os.path.join(dataset_dir, 'output')\n",
    "Path(output_dir).mkdir(parents=True, exist_ok=True)"
   ]
  },
  {
   "cell_type": "markdown",
   "id": "a083d9f6-c253-4860-87cf-e6ec2a2e45a4",
   "metadata": {},
   "source": [
    "### Load the annotations ####\n",
    "We use the annotations data frame created in the first notebook"
   ]
  },
  {
   "cell_type": "code",
   "execution_count": 13,
   "id": "12280aeb-29ea-415a-bad0-88e7da3a616a",
   "metadata": {},
   "outputs": [
    {
     "name": "stdout",
     "output_type": "stream",
     "text": [
      "Found 634 images in /app/data/dentex_detection/quadrant_enumeration/xrays\n"
     ]
    },
    {
     "data": {
      "text/html": [
       "<div>\n",
       "<style scoped>\n",
       "    .dataframe tbody tr th:only-of-type {\n",
       "        vertical-align: middle;\n",
       "    }\n",
       "\n",
       "    .dataframe tbody tr th {\n",
       "        vertical-align: top;\n",
       "    }\n",
       "\n",
       "    .dataframe thead th {\n",
       "        text-align: right;\n",
       "    }\n",
       "</style>\n",
       "<table border=\"1\" class=\"dataframe\">\n",
       "  <thead>\n",
       "    <tr style=\"text-align: right;\">\n",
       "      <th></th>\n",
       "      <th>file_name</th>\n",
       "      <th>bbox</th>\n",
       "      <th>segmentation</th>\n",
       "      <th>quadrant</th>\n",
       "      <th>position</th>\n",
       "    </tr>\n",
       "  </thead>\n",
       "  <tbody>\n",
       "    <tr>\n",
       "      <th>0</th>\n",
       "      <td>train_0.png</td>\n",
       "      <td>[1376.5882352941176, 288.0, 102.94117647058829...</td>\n",
       "      <td>[[1467, 664, 1479, 288, 1388, 299, 1376, 655]]</td>\n",
       "      <td>1</td>\n",
       "      <td>1</td>\n",
       "    </tr>\n",
       "    <tr>\n",
       "      <th>1</th>\n",
       "      <td>train_0.png</td>\n",
       "      <td>[1303.0588235294117, 293.88235294117646, 85.29...</td>\n",
       "      <td>[[1376, 670, 1388, 296, 1317, 293, 1314, 485, ...</td>\n",
       "      <td>1</td>\n",
       "      <td>2</td>\n",
       "    </tr>\n",
       "    <tr>\n",
       "      <th>2</th>\n",
       "      <td>train_0.png</td>\n",
       "      <td>[1241.2941176470588, 255.6470588235294, 85.294...</td>\n",
       "      <td>[[1297, 623, 1326, 543, 1317, 258, 1244, 255, ...</td>\n",
       "      <td>1</td>\n",
       "      <td>3</td>\n",
       "    </tr>\n",
       "  </tbody>\n",
       "</table>\n",
       "</div>"
      ],
      "text/plain": [
       "     file_name                                               bbox  \\\n",
       "0  train_0.png  [1376.5882352941176, 288.0, 102.94117647058829...   \n",
       "1  train_0.png  [1303.0588235294117, 293.88235294117646, 85.29...   \n",
       "2  train_0.png  [1241.2941176470588, 255.6470588235294, 85.294...   \n",
       "\n",
       "                                        segmentation  quadrant position  \n",
       "0     [[1467, 664, 1479, 288, 1388, 299, 1376, 655]]         1        1  \n",
       "1  [[1376, 670, 1388, 296, 1317, 293, 1314, 485, ...         1        2  \n",
       "2  [[1297, 623, 1326, 543, 1317, 258, 1244, 255, ...         1        3  "
      ]
     },
     "metadata": {},
     "output_type": "display_data"
    }
   ],
   "source": [
    "url = 'https://dsets.s3.amazonaws.com/dentex/dentex-quadrant-enumeration.tar.gz'\n",
    "annotations_data_file_name = f'{os.path.basename(url).split('.')[0]}.parquet'\n",
    "annotations_data_file = os.path.join(dataset_dir, annotations_data_file_name)\n",
    "df = pd.read_parquet(annotations_data_file)\n",
    "\n",
    "# Let's make sure that we have the expected number of images available\n",
    "expected_images = 634\n",
    "file_list = glob.glob(os.path.join(image_dir, '*.png'))\n",
    "# We want to be sure that the number of images is correct before we continue\n",
    "try:\n",
    "    assert len(file_list) == expected_images\n",
    "except AssertionError:\n",
    "    print(f'Warning. Expected {expected_images} images in {image_dir}')\n",
    "print(f'Found {len(file_list)} images in {image_dir}')\n",
    "display(df.head(3))"
   ]
  },
  {
   "cell_type": "markdown",
   "id": "a29e2194-f7d0-4479-8e8f-fbd457c6e76b",
   "metadata": {},
   "source": [
    "### Load the annotations and convert into a pandas data frame ###"
   ]
  },
  {
   "cell_type": "code",
   "execution_count": 15,
   "id": "f0ef8bbd-b2f9-4632-b937-7bd8bc443df2",
   "metadata": {},
   "outputs": [],
   "source": [
    "# Create a (quadrant) bounding box that contains a list of bounding boxes\n",
    "def compass_box(bbox_list_xywh: list, offset:int) -> list:\n",
    "    assert isinstance(bbox_list_xywh, list)\n",
    "    bbox_list_xyxy = [xywh2xyxy(bbox) for bbox in bbox_list_xywh]\n",
    "    bbox_list_x = flatten([[bbox[0], bbox[2]] for bbox in bbox_list_xyxy])\n",
    "    bbox_list_y = flatten([[bbox[1], bbox[3]] for bbox in bbox_list_xyxy])\n",
    "    quadrant_bbox_xywh = xyxy2xywh([min(bbox_list_x)-offset, \n",
    "                                    min(bbox_list_y)-offset, \n",
    "                                    max(bbox_list_x)+offset, \n",
    "                                    max(bbox_list_y)+offset])\n",
    "    return quadrant_bbox_xywh\n",
    "\n",
    "# Create a function to build (x, y) tuples from segmentation lists\n",
    "def segmentation_edges(segmentation: list) -> np.ndarray:\n",
    "    output = None\n",
    "    try:\n",
    "        assert isinstance(segmentation, list)\n",
    "        assert isinstance(segmentation[0], (int, np.int64))\n",
    "        assert len(segmentation) % 2 == 0\n",
    "    except AssertionError as e:\n",
    "        logger.error('segmentation must be a flat even-lenth list of integer values')\n",
    "    else:\n",
    "        seg_x = [segmentation[i] for i in range(len(segmentation)) if i % 2 == 0]\n",
    "        seg_y = [segmentation[i] for i in range(len(segmentation)) if i % 2 == 1]\n",
    "        output = np.array(list(zip(seg_x, seg_y)))\n",
    "    return output"
   ]
  },
  {
   "cell_type": "markdown",
   "id": "01739886-51cf-4d89-be82-887ce37bae7b",
   "metadata": {},
   "source": [
    "### Crop the images and save them in a new directory ###"
   ]
  },
  {
   "cell_type": "code",
   "execution_count": 24,
   "id": "600283e0-b6a8-423b-bed4-6f1355938f4a",
   "metadata": {},
   "outputs": [
    {
     "name": "stdout",
     "output_type": "stream",
     "text": [
      "1\n",
      "2\n",
      "3\n",
      "4\n",
      "1\n",
      "2\n",
      "3\n",
      "4\n"
     ]
    }
   ],
   "source": [
    "# Loop over all panoramic radiographs\n",
    "for f, file in enumerate(file_list[:2]):\n",
    "    if (f+1) % 100 == 0:\n",
    "        print(f'File {f+1} / {len(file_list)}')\n",
    "    file_name = os.path.basename(file)\n",
    "    im = ImageData().load_image(file)\n",
    "    # Loop over the four quadrants for each image\n",
    "    quadrant_list = sorted(list(df.loc[df['file_name']==file_name, 'quadrant'].unique()))\n",
    "    for quadrant in quadrant_list:\n",
    "        print(quadrant)"
   ]
  },
  {
   "cell_type": "code",
   "execution_count": 23,
   "id": "55b69e65-a6fc-4ecc-8fa7-f5d7c9cea07e",
   "metadata": {},
   "outputs": [
    {
     "data": {
      "text/plain": [
       "[np.int64(1), np.int64(2), np.int64(3), np.int64(4)]"
      ]
     },
     "execution_count": 23,
     "metadata": {},
     "output_type": "execute_result"
    }
   ],
   "source": [
    "quadrant_list"
   ]
  }
 ],
 "metadata": {
  "kernelspec": {
   "display_name": "Python 3 (ipykernel)",
   "language": "python",
   "name": "python3"
  },
  "language_info": {
   "codemirror_mode": {
    "name": "ipython",
    "version": 3
   },
   "file_extension": ".py",
   "mimetype": "text/x-python",
   "name": "python",
   "nbconvert_exporter": "python",
   "pygments_lexer": "ipython3",
   "version": "3.12.9"
  }
 },
 "nbformat": 4,
 "nbformat_minor": 5
}
